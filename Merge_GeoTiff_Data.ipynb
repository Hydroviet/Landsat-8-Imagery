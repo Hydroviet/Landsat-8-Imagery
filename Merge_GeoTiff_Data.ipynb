{
 "cells": [
  {
   "cell_type": "code",
   "execution_count": 1,
   "metadata": {},
   "outputs": [],
   "source": [
    "import rasterio\n",
    "import numpy as np\n",
    "import matplotlib as mpl\n",
    "import subprocess\n",
    "from matplotlib import pyplot\n",
    "import geopandas as gpd\n",
    "import os, math"
   ]
  },
  {
   "cell_type": "markdown",
   "metadata": {},
   "source": [
    "\n",
    "## Calculate NDWI"
   ]
  },
  {
   "cell_type": "code",
   "execution_count": 6,
   "metadata": {},
   "outputs": [
    {
     "name": "stdout",
     "output_type": "stream",
     "text": [
      "Processing Landsat8/LC08_L1TP_124052_20170530_20170615_01_T1\n"
     ]
    },
    {
     "name": "stderr",
     "output_type": "stream",
     "text": [
      "/home/anhldt/.local/lib/python3.5/site-packages/ipykernel_launcher.py:20: RuntimeWarning: invalid value encountered in double_scalars\n",
      "/home/anhldt/.local/lib/python3.5/site-packages/rasterio/__init__.py:160: FutureWarning: GDAL-style transforms are deprecated and will not be supported in Rasterio 1.0.\n",
      "  transform = guard_transform(transform)\n"
     ]
    },
    {
     "name": "stdout",
     "output_type": "stream",
     "text": [
      "Processing Landsat8/LC08_L1TP_124052_20170311_20170317_01_T1\n"
     ]
    }
   ],
   "source": [
    "for root, dir, filenames in os.walk('Landsat8/'):\n",
    "    for folder in dir:\n",
    "        path = os.path.join('Landsat8', folder)\n",
    "        listFile = [os.path.join(path, folder + '_B5.TIF'),\n",
    "                   os.path.join(path, folder + '_B3.TIF')]\n",
    "        bandNIR, bandGreen = (rasterio.open(f) for f in listFile)\n",
    "        \n",
    "        meta = bandNIR.meta\n",
    "        meta['dtype'] = 'float32'\n",
    "        \n",
    "        print(\"Processing %s\" % path)\n",
    "        bandNIR = bandNIR.read(1)\n",
    "        bandGreen = bandGreen.read(1)\n",
    "\n",
    "        NDWI = np.zeros(rasterio.open(listFile[0]).shape, dtype=rasterio.float32)\n",
    "        for i in range(NDWI.shape[0]):\n",
    "            for j in range(NDWI.shape[1]):\n",
    "                nir = bandNIR[i,j].astype(float)\n",
    "                green = bandGreen[i,j].astype(float)\n",
    "                NDWI[i,j] = (green - nir) / (green + nir)\n",
    "                if math.isnan(NDWI[i,j]):\n",
    "                    NDWI[i,j] = -1\n",
    "        with rasterio.open(os.path.join(path, folder + '_NDWI.TIF'), 'w', **meta) as dst:\n",
    "            dst.write(NDWI, 1)\n",
    "    break"
   ]
  },
  {
   "cell_type": "markdown",
   "metadata": {},
   "source": [
    "## Calculate NDWI 2"
   ]
  },
  {
   "cell_type": "code",
   "execution_count": 7,
   "metadata": {},
   "outputs": [
    {
     "name": "stdout",
     "output_type": "stream",
     "text": [
      "Processing Landsat8/LC08_L1TP_124052_20170530_20170615_01_T1\n"
     ]
    },
    {
     "name": "stderr",
     "output_type": "stream",
     "text": [
      "/home/anhldt/.local/lib/python3.5/site-packages/ipykernel_launcher.py:20: RuntimeWarning: invalid value encountered in double_scalars\n",
      "/home/anhldt/.local/lib/python3.5/site-packages/rasterio/__init__.py:160: FutureWarning: GDAL-style transforms are deprecated and will not be supported in Rasterio 1.0.\n",
      "  transform = guard_transform(transform)\n"
     ]
    },
    {
     "name": "stdout",
     "output_type": "stream",
     "text": [
      "Processing Landsat8/LC08_L1TP_124052_20170311_20170317_01_T1\n"
     ]
    }
   ],
   "source": [
    "for root, dir, filenames in os.walk('Landsat8/'):\n",
    "    for folder in dir:\n",
    "        path = os.path.join('Landsat8', folder)\n",
    "        listFile = [os.path.join(path, folder + '_B6.TIF'),\n",
    "                   os.path.join(path, folder + '_B3.TIF')]\n",
    "        bandSWIR, bandGreen = (rasterio.open(f) for f in listFile)\n",
    "        \n",
    "        meta = bandSWIR.meta\n",
    "        meta['dtype'] = 'float32'\n",
    "        \n",
    "        print(\"Processing %s\" % path)\n",
    "        bandSWIR = bandSWIR.read(1)\n",
    "        bandGreen = bandGreen.read(1)\n",
    "\n",
    "        NDWI2 = np.zeros(rasterio.open(listFile[0]).shape, dtype=rasterio.float32)\n",
    "        for i in range(NDWI2.shape[0]):\n",
    "            for j in range(NDWI2.shape[1]):\n",
    "                swir = bandSWIR[i,j].astype(float)\n",
    "                green = bandGreen[i,j].astype(float)\n",
    "                NDWI2[i,j] = (green - swir) / (green + swir)\n",
    "                if math.isnan(NDWI2[i,j]):\n",
    "                    NDWI2[i,j] = -1\n",
    "        with rasterio.open(os.path.join(path, folder + '_NDWI2.TIF'), 'w', **meta) as dst:\n",
    "            dst.write(NDWI2, 1)\n",
    "    break"
   ]
  },
  {
   "cell_type": "markdown",
   "metadata": {},
   "source": [
    "## Calculate NDWI 3"
   ]
  },
  {
   "cell_type": "code",
   "execution_count": 8,
   "metadata": {},
   "outputs": [
    {
     "name": "stdout",
     "output_type": "stream",
     "text": [
      "Processing Landsat8/LC08_L1TP_124052_20170530_20170615_01_T1\n"
     ]
    },
    {
     "name": "stderr",
     "output_type": "stream",
     "text": [
      "/home/anhldt/.local/lib/python3.5/site-packages/ipykernel_launcher.py:20: RuntimeWarning: invalid value encountered in double_scalars\n",
      "/home/anhldt/.local/lib/python3.5/site-packages/rasterio/__init__.py:160: FutureWarning: GDAL-style transforms are deprecated and will not be supported in Rasterio 1.0.\n",
      "  transform = guard_transform(transform)\n"
     ]
    },
    {
     "name": "stdout",
     "output_type": "stream",
     "text": [
      "Processing Landsat8/LC08_L1TP_124052_20170311_20170317_01_T1\n"
     ]
    }
   ],
   "source": [
    "for root, dir, filenames in os.walk('Landsat8/'):\n",
    "    for folder in dir:\n",
    "        path = os.path.join('Landsat8', folder)\n",
    "        listFile = [os.path.join(path, folder + '_B7.TIF'),\n",
    "                   os.path.join(path, folder + '_B3.TIF')]\n",
    "        bandSWIR, bandGreen = (rasterio.open(f) for f in listFile)\n",
    "        \n",
    "        meta = bandSWIR.meta\n",
    "        meta['dtype'] = 'float32'\n",
    "        \n",
    "        print(\"Processing %s\" % path)\n",
    "        bandSWIR = bandSWIR.read(1)\n",
    "        bandGreen = bandGreen.read(1)\n",
    "\n",
    "        NDWI3 = np.zeros(rasterio.open(listFile[0]).shape, dtype=rasterio.float32)\n",
    "        for i in range(NDWI3.shape[0]):\n",
    "            for j in range(NDWI3.shape[1]):\n",
    "                swir = bandSWIR[i,j].astype(float)\n",
    "                green = bandGreen[i,j].astype(float)\n",
    "                NDWI3[i,j] = (green - swir) / (green + swir)\n",
    "                if math.isnan(NDWI3[i,j]):\n",
    "                    NDWI3[i,j] = -1\n",
    "        with rasterio.open(os.path.join(path, folder + '_NDWI3.TIF'), 'w', **meta) as dst:\n",
    "            dst.write(NDWI3, 1)\n",
    "    break"
   ]
  }
 ],
 "metadata": {
  "kernelspec": {
   "display_name": "Python 3",
   "language": "python",
   "name": "python3"
  },
  "language_info": {
   "codemirror_mode": {
    "name": "ipython",
    "version": 3
   },
   "file_extension": ".py",
   "mimetype": "text/x-python",
   "name": "python",
   "nbconvert_exporter": "python",
   "pygments_lexer": "ipython3",
   "version": "3.5.2"
  }
 },
 "nbformat": 4,
 "nbformat_minor": 2
}
