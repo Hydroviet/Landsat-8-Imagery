{
 "cells": [
  {
   "cell_type": "code",
   "execution_count": 1,
   "metadata": {},
   "outputs": [],
   "source": [
    "import rasterio\n",
    "import numpy as np\n",
    "import matplotlib as mpl\n",
    "import subprocess\n",
    "from matplotlib import pyplot\n",
    "import geopandas as gpd"
   ]
  },
  {
   "cell_type": "markdown",
   "metadata": {},
   "source": [
    "\n",
    "## Calculate NDWI"
   ]
  },
  {
   "cell_type": "code",
   "execution_count": 14,
   "metadata": {},
   "outputs": [
    {
     "name": "stdout",
     "output_type": "stream",
     "text": [
      "Processing tmp/2004_04_16\n"
     ]
    },
    {
     "name": "stderr",
     "output_type": "stream",
     "text": [
      "/home/anhldt/.local/lib/python3.5/site-packages/ipykernel_launcher.py:22: RuntimeWarning: invalid value encountered in double_scalars\n",
      "/home/anhldt/.local/lib/python3.5/site-packages/rasterio/__init__.py:160: FutureWarning: GDAL-style transforms are deprecated and will not be supported in Rasterio 1.0.\n",
      "  transform = guard_transform(transform)\n"
     ]
    },
    {
     "name": "stdout",
     "output_type": "stream",
     "text": [
      "Processing tmp/2004_06_03\n",
      "Processing tmp/2004_10_09\n",
      "Processing tmp/2004_11_10\n",
      "Processing tmp/2005_02_14\n",
      "Processing tmp/2008_04_27\n",
      "Processing tmp/2009_05_16\n",
      "Processing tmp/2009_08_20\n",
      "Processing tmp/2010_09_24\n",
      "Processing tmp/2010_10_26\n",
      "Processing tmp/2012_01_01\n",
      "Processing tmp/2014_09_26\n",
      "Processing tmp/2015_06_18\n",
      "Processing tmp/2015_07_04\n",
      "Processing tmp/2015_09_06\n",
      "Processing tmp/2016_07_06\n",
      "Processing tmp/2016_08_07\n",
      "Processing tmp/2016_10_10\n",
      "Processing tmp/2016_12_29\n"
     ]
    }
   ],
   "source": [
    "import os, math\n",
    "\n",
    "for root, dir, filenames in os.walk('tmp/'):\n",
    "    for folder in dir:\n",
    "        path = os.path.join('tmp', folder)\n",
    "        listFile = [path + '/B5.TIF',\n",
    "                   path + '/B3.TIF']\n",
    "        bandNIR, bandGreen = (rasterio.open(f) for f in listFile)\n",
    "        \n",
    "        meta = bandNIR.meta\n",
    "        meta['dtype'] = 'float32'\n",
    "        \n",
    "        print(\"Processing %s\" % path)\n",
    "        bandNIR = bandNIR.read(1)\n",
    "        bandGreen = bandGreen.read(1)\n",
    "\n",
    "        NDWI = np.zeros(rasterio.open(listFile[0]).shape, dtype=rasterio.float32)\n",
    "        for i in range(NDWI.shape[0]):\n",
    "            for j in range(NDWI.shape[1]):\n",
    "                nir = bandNIR[i,j].astype(float)\n",
    "                green = bandGreen[i,j].astype(float)\n",
    "                NDWI[i,j] = (green - nir) / (green + nir)\n",
    "                if math.isnan(NDWI[i,j]):\n",
    "                    NDWI[i,j] = -1\n",
    "        with rasterio.open(path + '/NDWI.TIF', 'w', **meta) as dst:\n",
    "            dst.write(NDWI, 1)\n",
    "    break"
   ]
  },
  {
   "cell_type": "markdown",
   "metadata": {},
   "source": [
    "## Calculate NDWI 2"
   ]
  },
  {
   "cell_type": "code",
   "execution_count": 11,
   "metadata": {},
   "outputs": [
    {
     "name": "stdout",
     "output_type": "stream",
     "text": [
      "Processing tmp/2004_04_16\n"
     ]
    },
    {
     "name": "stderr",
     "output_type": "stream",
     "text": [
      "/home/anhldt/.local/lib/python3.5/site-packages/ipykernel_launcher.py:22: RuntimeWarning: invalid value encountered in double_scalars\n",
      "/home/anhldt/.local/lib/python3.5/site-packages/rasterio/__init__.py:160: FutureWarning: GDAL-style transforms are deprecated and will not be supported in Rasterio 1.0.\n",
      "  transform = guard_transform(transform)\n"
     ]
    },
    {
     "name": "stdout",
     "output_type": "stream",
     "text": [
      "Processing tmp/2004_06_03\n",
      "Processing tmp/2004_10_09\n",
      "Processing tmp/2004_11_10\n",
      "Processing tmp/2005_02_14\n",
      "Processing tmp/2008_04_27\n",
      "Processing tmp/2009_05_16\n",
      "Processing tmp/2009_08_20\n",
      "Processing tmp/2010_09_24\n",
      "Processing tmp/2010_10_26\n",
      "Processing tmp/2012_01_01\n",
      "Processing tmp/2014_09_26\n",
      "Processing tmp/2015_06_18\n",
      "Processing tmp/2015_07_04\n",
      "Processing tmp/2015_09_06\n",
      "Processing tmp/2016_07_06\n",
      "Processing tmp/2016_08_07\n",
      "Processing tmp/2016_10_10\n",
      "Processing tmp/2016_12_29\n"
     ]
    }
   ],
   "source": [
    "import os, math\n",
    "\n",
    "for root, dir, filenames in os.walk('tmp/'):\n",
    "    for folder in dir:\n",
    "        path = os.path.join('tmp', folder)\n",
    "        listFile = [path + '/B6.TIF',\n",
    "                   path + '/B3.TIF']\n",
    "        bandSWIR, bandGreen = (rasterio.open(f) for f in listFile)\n",
    "        \n",
    "        meta = bandSWIR.meta\n",
    "        meta['dtype'] = 'float32'\n",
    "        \n",
    "        print(\"Processing %s\" % path)\n",
    "        bandSWIR = bandSWIR.read(1)\n",
    "        bandGreen = bandGreen.read(1)\n",
    "\n",
    "        NDWI2 = np.zeros(rasterio.open(listFile[0]).shape, dtype=rasterio.float32)\n",
    "        for i in range(NDWI2.shape[0]):\n",
    "            for j in range(NDWI2.shape[1]):\n",
    "                swir = bandSWIR[i,j].astype(float)\n",
    "                green = bandGreen[i,j].astype(float)\n",
    "                NDWI2[i,j] = (green - swir) / (green + swir)\n",
    "                if math.isnan(NDWI2[i,j]):\n",
    "                    NDWI2[i,j] = -1\n",
    "        with rasterio.open(path + '/NDWI2.TIF', 'w', **meta) as dst:\n",
    "            dst.write(NDWI2, 1)\n",
    "    break"
   ]
  },
  {
   "cell_type": "markdown",
   "metadata": {},
   "source": [
    "## Calculate NDWI 3"
   ]
  },
  {
   "cell_type": "code",
   "execution_count": 13,
   "metadata": {},
   "outputs": [
    {
     "name": "stdout",
     "output_type": "stream",
     "text": [
      "Processing tmp/2004_04_16\n"
     ]
    },
    {
     "name": "stderr",
     "output_type": "stream",
     "text": [
      "/home/anhldt/.local/lib/python3.5/site-packages/ipykernel_launcher.py:22: RuntimeWarning: invalid value encountered in double_scalars\n",
      "/home/anhldt/.local/lib/python3.5/site-packages/rasterio/__init__.py:160: FutureWarning: GDAL-style transforms are deprecated and will not be supported in Rasterio 1.0.\n",
      "  transform = guard_transform(transform)\n"
     ]
    },
    {
     "name": "stdout",
     "output_type": "stream",
     "text": [
      "Processing tmp/2004_06_03\n",
      "Processing tmp/2004_10_09\n",
      "Processing tmp/2004_11_10\n",
      "Processing tmp/2005_02_14\n",
      "Processing tmp/2008_04_27\n",
      "Processing tmp/2009_05_16\n",
      "Processing tmp/2009_08_20\n",
      "Processing tmp/2010_09_24\n",
      "Processing tmp/2010_10_26\n",
      "Processing tmp/2012_01_01\n",
      "Processing tmp/2014_09_26\n",
      "Processing tmp/2015_06_18\n",
      "Processing tmp/2015_07_04\n",
      "Processing tmp/2015_09_06\n",
      "Processing tmp/2016_07_06\n",
      "Processing tmp/2016_08_07\n",
      "Processing tmp/2016_10_10\n",
      "Processing tmp/2016_12_29\n"
     ]
    }
   ],
   "source": [
    "import os, math\n",
    "\n",
    "for root, dir, filenames in os.walk('tmp/'):\n",
    "    for folder in dir:\n",
    "        path = os.path.join('tmp', folder)\n",
    "        listFile = [path + '/B7.TIF',\n",
    "                   path + '/B3.TIF']\n",
    "        bandSWIR, bandGreen = (rasterio.open(f) for f in listFile)\n",
    "        \n",
    "        meta = bandSWIR.meta\n",
    "        meta['dtype'] = 'float32'\n",
    "        \n",
    "        print(\"Processing %s\" % path)\n",
    "        bandSWIR = bandSWIR.read(1)\n",
    "        bandGreen = bandGreen.read(1)\n",
    "\n",
    "        NDWI3 = np.zeros(rasterio.open(listFile[0]).shape, dtype=rasterio.float32)\n",
    "        for i in range(NDWI3.shape[0]):\n",
    "            for j in range(NDWI3.shape[1]):\n",
    "                swir = bandSWIR[i,j].astype(float)\n",
    "                green = bandGreen[i,j].astype(float)\n",
    "                NDWI3[i,j] = (green - swir) / (green + swir)\n",
    "                if math.isnan(NDWI3[i,j]):\n",
    "                    NDWI3[i,j] = -1\n",
    "        with rasterio.open(path + '/NDWI3.TIF', 'w', **meta) as dst:\n",
    "            dst.write(NDWI3, 1)\n",
    "    break"
   ]
  }
 ],
 "metadata": {
  "kernelspec": {
   "display_name": "Python 3",
   "language": "python",
   "name": "python3"
  },
  "language_info": {
   "codemirror_mode": {
    "name": "ipython",
    "version": 3
   },
   "file_extension": ".py",
   "mimetype": "text/x-python",
   "name": "python",
   "nbconvert_exporter": "python",
   "pygments_lexer": "ipython3",
   "version": "3.5.2"
  }
 },
 "nbformat": 4,
 "nbformat_minor": 2
}
