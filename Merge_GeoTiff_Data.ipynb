{
 "cells": [
  {
   "cell_type": "code",
   "execution_count": 3,
   "metadata": {},
   "outputs": [],
   "source": [
    "import rasterio\n",
    "import numpy as np\n",
    "import matplotlib as mpl\n",
    "import subprocess\n",
    "from matplotlib import pyplot\n",
    "import geopandas as gpd"
   ]
  },
  {
   "cell_type": "markdown",
   "metadata": {},
   "source": [
    "\n",
    "## Calculate NDWI"
   ]
  },
  {
   "cell_type": "code",
   "execution_count": 23,
   "metadata": {},
   "outputs": [
    {
     "name": "stdout",
     "output_type": "stream",
     "text": [
      "Processing MERGED/201706\n"
     ]
    },
    {
     "name": "stderr",
     "output_type": "stream",
     "text": [
      "/home/ahldt/.local/lib/python3.6/site-packages/ipykernel_launcher.py:22: RuntimeWarning: invalid value encountered in double_scalars\n",
      "/home/ahldt/.local/lib/python3.6/site-packages/rasterio/__init__.py:160: FutureWarning: GDAL-style transforms are deprecated and will not be supported in Rasterio 1.0.\n",
      "  transform = guard_transform(transform)\n"
     ]
    },
    {
     "name": "stdout",
     "output_type": "stream",
     "text": [
      "Processing MERGED/201701\n",
      "Processing MERGED/201708\n",
      "Processing MERGED/201709\n",
      "Processing MERGED/201711\n",
      "Processing MERGED/201712\n",
      "Processing MERGED/201612\n",
      "Processing MERGED/201704\n",
      "Processing MERGED/201702\n",
      "Processing MERGED/201705\n",
      "Processing MERGED/201707\n",
      "Processing MERGED/201703\n",
      "Processing MERGED/201710\n"
     ]
    }
   ],
   "source": [
    "import os, math\n",
    "\n",
    "for root, dir, filenames in os.walk('MERGED/'):\n",
    "    for folder in dir:\n",
    "        path = os.path.join('MERGED', folder)\n",
    "        listFile = [path + '/B5.TIF',\n",
    "                   path + '/B3.TIF']\n",
    "        bandNIR, bandGreen = (rasterio.open(f) for f in listFile)\n",
    "        \n",
    "        meta = bandNIR.meta\n",
    "        meta['dtype'] = 'float32'\n",
    "        \n",
    "        print(\"Processing %s\" % path)\n",
    "        bandNIR = bandNIR.read(1)\n",
    "        bandGreen = bandGreen.read(1)\n",
    "\n",
    "        NDWI = np.zeros(rasterio.open(listFile[0]).shape, dtype=rasterio.float32)\n",
    "        for i in range(NDWI.shape[0]):\n",
    "            for j in range(NDWI.shape[1]):\n",
    "                nir = bandNIR[i,j].astype(float)\n",
    "                green = bandGreen[i,j].astype(float)\n",
    "                NDWI[i,j] = (green - nir) / (green + nir)\n",
    "                if math.isnan(NDWI[i,j]):\n",
    "                   NDWI[i,j] = -1\n",
    "        with rasterio.open(path + '/NDWI.TIF', 'w', **meta) as dst:\n",
    "            dst.write(NDWI, 1)"
   ]
  },
  {
   "cell_type": "markdown",
   "metadata": {},
   "source": [
    "## Calculate NDWI 2"
   ]
  },
  {
   "cell_type": "code",
   "execution_count": 26,
   "metadata": {},
   "outputs": [
    {
     "name": "stdout",
     "output_type": "stream",
     "text": [
      "Processing MERGED/201706\n"
     ]
    },
    {
     "name": "stderr",
     "output_type": "stream",
     "text": [
      "/home/ahldt/.local/lib/python3.6/site-packages/ipykernel_launcher.py:22: RuntimeWarning: invalid value encountered in double_scalars\n",
      "/home/ahldt/.local/lib/python3.6/site-packages/rasterio/__init__.py:160: FutureWarning: GDAL-style transforms are deprecated and will not be supported in Rasterio 1.0.\n",
      "  transform = guard_transform(transform)\n"
     ]
    },
    {
     "name": "stdout",
     "output_type": "stream",
     "text": [
      "Processing MERGED/201701\n",
      "Processing MERGED/201708\n",
      "Processing MERGED/201709\n",
      "Processing MERGED/201711\n",
      "Processing MERGED/201712\n",
      "Processing MERGED/201612\n",
      "Processing MERGED/201704\n",
      "Processing MERGED/201702\n",
      "Processing MERGED/201705\n",
      "Processing MERGED/201707\n",
      "Processing MERGED/201703\n",
      "Processing MERGED/201710\n"
     ]
    }
   ],
   "source": [
    "import os, math\n",
    "\n",
    "for root, dir, filenames in os.walk('MERGED/'):\n",
    "    for folder in dir:\n",
    "        path = os.path.join('MERGED', folder)\n",
    "        listFile = [path + '/B6.TIF',\n",
    "                   path + '/B3.TIF']\n",
    "        bandSWIR, bandGreen = (rasterio.open(f) for f in listFile)\n",
    "        \n",
    "        meta = bandSWIR.meta\n",
    "        meta['dtype'] = 'float32'\n",
    "        \n",
    "        print(\"Processing %s\" % path)\n",
    "        bandSWIR = bandSWIR.read(1)\n",
    "        bandGreen = bandGreen.read(1)\n",
    "\n",
    "        NDWI2 = np.zeros(rasterio.open(listFile[0]).shape, dtype=rasterio.float32)\n",
    "        for i in range(NDWI2.shape[0]):\n",
    "            for j in range(NDWI2.shape[1]):\n",
    "                swir = bandSWIR[i,j].astype(float)\n",
    "                green = bandGreen[i,j].astype(float)\n",
    "                NDWI2[i,j] = (green - swir) / (green + swir)\n",
    "                if math.isnan(NDWI2[i,j]):\n",
    "                    NDWI2[i,j] = -1\n",
    "        with rasterio.open(path + '/NDWI2.TIF', 'w', **meta) as dst:\n",
    "            dst.write(NDWI2, 1)"
   ]
  },
  {
   "cell_type": "markdown",
   "metadata": {},
   "source": [
    "## Calculate NDWI 3"
   ]
  },
  {
   "cell_type": "code",
   "execution_count": 6,
   "metadata": {},
   "outputs": [
    {
     "ename": "RasterioIOError",
     "evalue": "MERGED/201706/B7.TIF: No such file or directory",
     "output_type": "error",
     "traceback": [
      "\u001b[0;31m---------------------------------------------------------------------------\u001b[0m",
      "\u001b[0;31mCPLE_OpenFailed\u001b[0m                           Traceback (most recent call last)",
      "\u001b[0;32mrasterio/_base.pyx\u001b[0m in \u001b[0;36mrasterio._base.DatasetReader.start (rasterio/_base.c:2847)\u001b[0;34m()\u001b[0m\n",
      "\u001b[0;32mrasterio/_base.pyx\u001b[0m in \u001b[0;36mrasterio._base.DatasetReader.start (rasterio/_base.c:2799)\u001b[0;34m()\u001b[0m\n",
      "\u001b[0;32mrasterio/_err.pyx\u001b[0m in \u001b[0;36mrasterio._err.CPLErrors.check (rasterio/_err.c:1773)\u001b[0;34m()\u001b[0m\n",
      "\u001b[0;31mCPLE_OpenFailed\u001b[0m: MERGED/201706/B7.TIF: No such file or directory",
      "\nDuring handling of the above exception, another exception occurred:\n",
      "\u001b[0;31mRasterioIOError\u001b[0m                           Traceback (most recent call last)",
      "\u001b[0;32m<ipython-input-6-9f1c9ab09ab2>\u001b[0m in \u001b[0;36m<module>\u001b[0;34m()\u001b[0m\n\u001b[1;32m      6\u001b[0m         listFile = [path + '/B7.TIF',\n\u001b[1;32m      7\u001b[0m                    path + '/B3.TIF']\n\u001b[0;32m----> 8\u001b[0;31m         \u001b[0mbandSWIR\u001b[0m\u001b[0;34m,\u001b[0m \u001b[0mbandGreen\u001b[0m \u001b[0;34m=\u001b[0m \u001b[0;34m(\u001b[0m\u001b[0mrasterio\u001b[0m\u001b[0;34m.\u001b[0m\u001b[0mopen\u001b[0m\u001b[0;34m(\u001b[0m\u001b[0mf\u001b[0m\u001b[0;34m)\u001b[0m \u001b[0;32mfor\u001b[0m \u001b[0mf\u001b[0m \u001b[0;32min\u001b[0m \u001b[0mlistFile\u001b[0m\u001b[0;34m)\u001b[0m\u001b[0;34m\u001b[0m\u001b[0m\n\u001b[0m\u001b[1;32m      9\u001b[0m \u001b[0;34m\u001b[0m\u001b[0m\n\u001b[1;32m     10\u001b[0m         \u001b[0mmeta\u001b[0m \u001b[0;34m=\u001b[0m \u001b[0mbandSWIR\u001b[0m\u001b[0;34m.\u001b[0m\u001b[0mmeta\u001b[0m\u001b[0;34m\u001b[0m\u001b[0m\n",
      "\u001b[0;32m<ipython-input-6-9f1c9ab09ab2>\u001b[0m in \u001b[0;36m<genexpr>\u001b[0;34m(.0)\u001b[0m\n\u001b[1;32m      6\u001b[0m         listFile = [path + '/B7.TIF',\n\u001b[1;32m      7\u001b[0m                    path + '/B3.TIF']\n\u001b[0;32m----> 8\u001b[0;31m         \u001b[0mbandSWIR\u001b[0m\u001b[0;34m,\u001b[0m \u001b[0mbandGreen\u001b[0m \u001b[0;34m=\u001b[0m \u001b[0;34m(\u001b[0m\u001b[0mrasterio\u001b[0m\u001b[0;34m.\u001b[0m\u001b[0mopen\u001b[0m\u001b[0;34m(\u001b[0m\u001b[0mf\u001b[0m\u001b[0;34m)\u001b[0m \u001b[0;32mfor\u001b[0m \u001b[0mf\u001b[0m \u001b[0;32min\u001b[0m \u001b[0mlistFile\u001b[0m\u001b[0;34m)\u001b[0m\u001b[0;34m\u001b[0m\u001b[0m\n\u001b[0m\u001b[1;32m      9\u001b[0m \u001b[0;34m\u001b[0m\u001b[0m\n\u001b[1;32m     10\u001b[0m         \u001b[0mmeta\u001b[0m \u001b[0;34m=\u001b[0m \u001b[0mbandSWIR\u001b[0m\u001b[0;34m.\u001b[0m\u001b[0mmeta\u001b[0m\u001b[0;34m\u001b[0m\u001b[0m\n",
      "\u001b[0;32m~/.local/lib/python3.6/site-packages/rasterio/__init__.py\u001b[0m in \u001b[0;36mopen\u001b[0;34m(path, mode, driver, width, height, count, crs, transform, dtype, nodata, **kwargs)\u001b[0m\n\u001b[1;32m    191\u001b[0m         raise ValueError(\n\u001b[1;32m    192\u001b[0m             \"mode string must be one of 'r', 'r+', or 'w', not %s\" % mode)\n\u001b[0;32m--> 193\u001b[0;31m     \u001b[0ms\u001b[0m\u001b[0;34m.\u001b[0m\u001b[0mstart\u001b[0m\u001b[0;34m(\u001b[0m\u001b[0;34m)\u001b[0m\u001b[0;34m\u001b[0m\u001b[0m\n\u001b[0m\u001b[1;32m    194\u001b[0m     \u001b[0;32mreturn\u001b[0m \u001b[0ms\u001b[0m\u001b[0;34m\u001b[0m\u001b[0m\n\u001b[1;32m    195\u001b[0m \u001b[0;34m\u001b[0m\u001b[0m\n",
      "\u001b[0;32mrasterio/_base.pyx\u001b[0m in \u001b[0;36mrasterio._base.DatasetReader.start (rasterio/_base.c:2969)\u001b[0;34m()\u001b[0m\n",
      "\u001b[0;31mRasterioIOError\u001b[0m: MERGED/201706/B7.TIF: No such file or directory"
     ]
    }
   ],
   "source": [
    "import os, math\n",
    "\n",
    "for root, dir, filenames in os.walk('MERGED/'):\n",
    "    for folder in dir:\n",
    "        path = os.path.join('MERGED', folder)\n",
    "        listFile = [path + '/B7.TIF',\n",
    "                   path + '/B3.TIF']\n",
    "        bandSWIR, bandGreen = (rasterio.open(f) for f in listFile)\n",
    "        \n",
    "        meta = bandSWIR.meta\n",
    "        meta['dtype'] = 'float32'\n",
    "        \n",
    "        print(\"Processing %s\" % path)\n",
    "        bandSWIR = bandSWIR.read(1)\n",
    "        bandGreen = bandGreen.read(1)\n",
    "\n",
    "        NDWI3 = np.zeros(rasterio.open(listFile[0]).shape, dtype=rasterio.float32)\n",
    "        for i in range(NDWI3.shape[0]):\n",
    "            for j in range(NDWI3.shape[1]):\n",
    "                swir = bandSWIR[i,j].astype(float)\n",
    "                green = bandGreen[i,j].astype(float)\n",
    "                NDWI3[i,j] = (green - swir) / (green + swir)\n",
    "                if math.isnan(NDWI3[i,j]):\n",
    "                    NDWI2[i,j] = -1\n",
    "        with rasterio.open(path + '/NDWI3.TIF', 'w', **meta) as dst:\n",
    "            dst.write(NDWI3, 1)"
   ]
  }
 ],
 "metadata": {
  "kernelspec": {
   "display_name": "Python 3",
   "language": "python",
   "name": "python3"
  },
  "language_info": {
   "codemirror_mode": {
    "name": "ipython",
    "version": 3
   },
   "file_extension": ".py",
   "mimetype": "text/x-python",
   "name": "python",
   "nbconvert_exporter": "python",
   "pygments_lexer": "ipython3",
   "version": "3.5.2"
  }
 },
 "nbformat": 4,
 "nbformat_minor": 2
}
