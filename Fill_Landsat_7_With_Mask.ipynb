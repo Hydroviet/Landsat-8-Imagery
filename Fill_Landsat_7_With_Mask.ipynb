{
 "cells": [
  {
   "cell_type": "code",
   "execution_count": 2,
   "metadata": {},
   "outputs": [],
   "source": [
    "import rasterio\n",
    "import numpy as np\n",
    "import matplotlib as mpl\n",
    "import subprocess\n",
    "from matplotlib import pyplot as plt\n",
    "from rasterio.merge import merge\n",
    "import geopandas as gpd\n",
    "import os, math\n",
    "\n",
    "import gdal, gdalconst, gdalnumeric\n",
    "from gdal import FillNodata as FillWithMask"
   ]
  },
  {
   "cell_type": "code",
   "execution_count": null,
   "metadata": {
    "scrolled": true
   },
   "outputs": [
    {
     "name": "stdout",
     "output_type": "stream",
     "text": [
      "Processing 1/218\n",
      "Processing 2/218\n",
      "Processing 3/218\n",
      "Processing 4/218\n",
      "Processing 5/218\n",
      "Processing 6/218\n",
      "Processing 7/218\n",
      "Processing 8/218\n",
      "Processing 9/218\n",
      "Processing 10/218\n",
      "Processing 11/218\n",
      "Processing 12/218\n",
      "Processing 13/218\n",
      "Processing 14/218\n",
      "Processing 15/218\n",
      "Processing 16/218\n",
      "Processing 17/218\n",
      "Processing 18/218\n",
      "Processing 19/218\n",
      "Processing 20/218\n",
      "Processing 21/218\n",
      "Processing 22/218\n",
      "Processing 23/218\n",
      "Processing 24/218\n",
      "Processing 25/218\n",
      "Processing 26/218\n",
      "Processing 27/218\n",
      "Processing 28/218\n",
      "Processing 29/218\n",
      "Processing 30/218\n",
      "Processing 31/218\n",
      "Processing 32/218\n",
      " -> Fill L7_Data/2003_10_07/B1.TIF with L7_Data/2003_10_07/gap_mask/B1.TIF\n"
     ]
    }
   ],
   "source": [
    "folder_ts = 'L7_Data/'\n",
    "for root, dirs, _ in os.walk(folder_ts):\n",
    "    break\n",
    "\n",
    "c = 0\n",
    "for dir in dirs:\n",
    "    c += 1\n",
    "    print('Processing {0}/{1}'.format(c, len(dirs)))\n",
    "    \n",
    "    folder = os.path.join(folder_ts, dir)\n",
    "    if (not os.path.exists(os.path.join(folder, 'gap_mask'))):\n",
    "        continue\n",
    "    for _, __, files in os.walk(folder):\n",
    "        break\n",
    "    \n",
    "    for file in files:\n",
    "        raw_data = os.path.join(folder, file)\n",
    "        mask_data = os.path.join(folder, 'gap_mask', file)\n",
    "        \n",
    "        print(' -> Fill {0} with {1}'.format(raw_data, mask_data))\n",
    "        \n",
    "        try:\n",
    "            raw_data = gdal.Open(raw_data, gdal.GA_Update)\n",
    "            mask_data = gdal.Open(mask_data)\n",
    "\n",
    "            source = raw_data.GetRasterBand(1)\n",
    "            mask = mask_data.GetRasterBand(1)\n",
    "            \n",
    "            FillWithMask(source, mask, 100, 0)\n",
    "        except:\n",
    "            pass\n",
    "        \n",
    "        raw_data = None\n",
    "        mask_data = None\n",
    "        source = None\n",
    "        mask = None"
   ]
  },
  {
   "cell_type": "code",
   "execution_count": 5,
   "metadata": {},
   "outputs": [
    {
     "name": "stdout",
     "output_type": "stream",
     "text": [
      " -> Fill tmp/2017_01_30/B3.TIF with tmp/2017_01_30/gap_mask/B3.TIF -> DONE\n",
      " -> Fill tmp/2017_01_30/B4.TIF with tmp/2017_01_30/gap_mask/B4.TIF -> DONE\n",
      " -> Fill tmp/2017_01_30/B5.TIF with tmp/2017_01_30/gap_mask/B5.TIF -> DONE\n",
      " -> Fill tmp/2017_01_30/B6.TIF with tmp/2017_01_30/gap_mask/B6.TIF -> DONE\n",
      " -> Fill tmp/2017_01_30/B6_VCID_2.TIF with tmp/2017_01_30/gap_mask/B6_VCID_2.TIF -> DONE\n",
      " -> Fill tmp/2017_01_30/B7.TIF with tmp/2017_01_30/gap_mask/B7.TIF -> DONE\n",
      " -> Fill tmp/2017_01_30/MTL.txt with tmp/2017_01_30/gap_mask/MTL.txt -> Error 'NoneType' object has no attribute 'GetRasterBand'\n",
      " -> Fill tmp/2017_01_30/NDWI.TIF with tmp/2017_01_30/gap_mask/NDWI.TIF -> Error 'NoneType' object has no attribute 'GetRasterBand'\n",
      " -> Fill tmp/2017_01_30/NDWI2.TIF with tmp/2017_01_30/gap_mask/NDWI2.TIF -> Error 'NoneType' object has no attribute 'GetRasterBand'\n",
      " -> Fill tmp/2017_01_30/NDWI3.TIF with tmp/2017_01_30/gap_mask/NDWI3.TIF -> Error 'NoneType' object has no attribute 'GetRasterBand'\n",
      " -> Fill tmp/2017_01_30/README.GTF with tmp/2017_01_30/gap_mask/README.GTF -> Error 'NoneType' object has no attribute 'GetRasterBand'\n"
     ]
    }
   ],
   "source": [
    "for _, __, files in os.walk('tmp/2017_01_30'):\n",
    "    break\n",
    "for file in files:\n",
    "    raw_data = os.path.join('tmp/2017_01_30', file)\n",
    "    mask_data = os.path.join('tmp/2017_01_30', 'gap_mask', file)\n",
    "\n",
    "    print(' -> Fill {0} with {1}'.format(raw_data, mask_data), end='')\n",
    "\n",
    "    try:\n",
    "        raw_data = gdal.Open(raw_data, gdal.GA_Update)\n",
    "        mask_data = gdal.Open(mask_data)\n",
    "\n",
    "        source = raw_data.GetRasterBand(1)\n",
    "        mask = mask_data.GetRasterBand(1)\n",
    "\n",
    "        FillWithMask(source, mask, 100, 0)\n",
    "        print (' -> DONE')\n",
    "    except Exception as e:\n",
    "        print(' -> Error {0}'.format(e))\n",
    "        pass\n",
    "\n",
    "    raw_data = None\n",
    "    mask_data = None\n",
    "    source = None\n",
    "    mask = None"
   ]
  }
 ],
 "metadata": {
  "kernelspec": {
   "display_name": "Python 3",
   "language": "python",
   "name": "python3"
  },
  "language_info": {
   "codemirror_mode": {
    "name": "ipython",
    "version": 3
   },
   "file_extension": ".py",
   "mimetype": "text/x-python",
   "name": "python",
   "nbconvert_exporter": "python",
   "pygments_lexer": "ipython3",
   "version": "3.5.2"
  }
 },
 "nbformat": 4,
 "nbformat_minor": 2
}
