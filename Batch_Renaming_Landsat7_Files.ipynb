{
 "cells": [
  {
   "cell_type": "code",
   "execution_count": 7,
   "metadata": {},
   "outputs": [],
   "source": [
    "import datetime, time, os\n",
    "\n",
    "for root, dirs, files in os.walk('L7_Data/'):\n",
    "    break\n",
    "    \n",
    "for dir in dirs:\n",
    "    old_name = root + '/' + dir\n",
    "    dt = dir[9:-5]\n",
    "    y = int(dt[:4])\n",
    "    n = int(dt[4:])\n",
    "    \n",
    "    dt = datetime.datetime(y, 1, 1) + datetime.timedelta(n - 1)\n",
    "    new_name = root + '/' + str(dt)[:10].replace('-', '_')\n",
    "    os.rename(src=old_name, dst=new_name)\n"
   ]
  },
  {
   "cell_type": "code",
   "execution_count": 8,
   "metadata": {},
   "outputs": [],
   "source": [
    "for root, dirs, files in os.walk('L7_Data/'):\n",
    "    break\n",
    "\n",
    "for dir in dirs:\n",
    "    dPath = os.path.join(root, dir)\n",
    "    for _, __, files in os.walk(dPath):\n",
    "        break\n",
    "    for file in files:\n",
    "        old_fn = os.path.join(dPath, file)\n",
    "        new_fn = os.path.join(dPath, file[22:])\n",
    "        if (file == 'README.GTF'):\n",
    "            continue\n",
    "        os.rename(src=old_fn,dst=new_fn)\n",
    "        "
   ]
  },
  {
   "cell_type": "code",
   "execution_count": 10,
   "metadata": {},
   "outputs": [],
   "source": [
    "for root, dirs, files in os.walk('L7_Data/'):\n",
    "    break\n",
    "\n",
    "for dir in dirs:\n",
    "    dPath = os.path.join(root, dir, 'gap_mask')\n",
    "    if (not os.path.exists(dPath)):\n",
    "        continue\n",
    "    for _, __, files in os.walk(dPath):\n",
    "        break\n",
    "    for file in files:\n",
    "        old_fn = os.path.join(dPath, file)\n",
    "        new_fn = os.path.join(dPath, file[3:])\n",
    "        if (file == 'README.GTF'):\n",
    "            continue\n",
    "        os.rename(src=old_fn,dst=new_fn)\n",
    "        "
   ]
  }
 ],
 "metadata": {
  "kernelspec": {
   "display_name": "Python 3",
   "language": "python",
   "name": "python3"
  },
  "language_info": {
   "codemirror_mode": {
    "name": "ipython",
    "version": 3
   },
   "file_extension": ".py",
   "mimetype": "text/x-python",
   "name": "python",
   "nbconvert_exporter": "python",
   "pygments_lexer": "ipython3",
   "version": "3.5.2"
  }
 },
 "nbformat": 4,
 "nbformat_minor": 2
}
