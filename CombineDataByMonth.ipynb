{
 "cells": [
  {
   "cell_type": "code",
   "execution_count": 1,
   "metadata": {},
   "outputs": [],
   "source": [
    "import rasterio\n",
    "import numpy as np\n",
    "import matplotlib as mpl\n",
    "import subprocess\n",
    "from matplotlib import pyplot\n",
    "from rasterio.merge import merge\n",
    "import geopandas as gpd"
   ]
  },
  {
   "cell_type": "markdown",
   "metadata": {},
   "source": [
    "## Merge GeoTIFF Data of each Band"
   ]
  },
  {
   "cell_type": "code",
   "execution_count": 2,
   "metadata": {
    "collapsed": true
   },
   "outputs": [],
   "source": [
    "file1 = 'LC08_L1TP_126051_20171206_20171223_01_T1'\n",
    "file2 = 'LC08_L1TP_127051_20171213_20171223_01_T1'\n",
    "\n",
    "list1 = ['Data/B5/' + file1 + '_B5.TIF',\n",
    "         'Data/B4/' + file1 + '_B4.TIF']\n",
    "list2 = ['Data/B5/' + file2 + '_B5.TIF',\n",
    "        'Data/B4/' + file2 + '_B4.TIF']\n",
    "\n",
    "date = '201712'\n",
    "\n",
    "outFile = ['NDVI/' + date + '/' + 'NIR.TIF',\n",
    "           'NDVI/' + date + '/' + 'RED.TIF']\n",
    "\n",
    "for i in range(2):\n",
    "    listFile = [rasterio.open(f) for f in [list1[i], list2[i]]]\n",
    "\n",
    "    dest, output_transform = merge(listFile)\n",
    "\n",
    "    profile = listFile[0].profile\n",
    "    profile['transform'] = output_transform\n",
    "    profile['height'] = dest.shape[1]\n",
    "    profile['width'] = dest.shape[2]\n",
    "\n",
    "    with rasterio.open(outFile[i], 'w', **profile) as dst:\n",
    "        dst.write(dest)\n",
    "        try:\n",
    "            colormap = listFile[0].colormap(1)\n",
    "            dst.write_colormap(1, colormap)\n",
    "        except ValueError:\n",
    "            pass"
   ]
  },
  {
   "cell_type": "markdown",
   "metadata": {},
   "source": [
    "## Calculate NDVI"
   ]
  },
  {
   "cell_type": "code",
   "execution_count": 70,
   "metadata": {},
   "outputs": [
    {
     "name": "stdout",
     "output_type": "stream",
     "text": [
      "Processing NDVI/201712\n"
     ]
    },
    {
     "name": "stderr",
     "output_type": "stream",
     "text": [
      "/home/ahldt/.local/lib/python3.6/site-packages/ipykernel_launcher.py:22: RuntimeWarning: invalid value encountered in double_scalars\n",
      "/home/ahldt/.local/lib/python3.6/site-packages/rasterio/__init__.py:160: FutureWarning: GDAL-style transforms are deprecated and will not be supported in Rasterio 1.0.\n",
      "  transform = guard_transform(transform)\n"
     ]
    },
    {
     "name": "stdout",
     "output_type": "stream",
     "text": [
      "Processing NDVI/201612\n",
      "Processing NDVI/201704\n",
      "Processing NDVI/201702\n",
      "Processing NDVI/201705\n",
      "Processing NDVI/201707\n",
      "Processing NDVI/201703\n",
      "Processing NDVI/201710\n"
     ]
    }
   ],
   "source": [
    "import os, math\n",
    "\n",
    "for root, dir, filenames in os.walk('NDVI/'):\n",
    "    for folder in dir:\n",
    "        path = os.path.join('NDVI', folder)\n",
    "        listFile = [path + '/NIR.TIF',\n",
    "                   path + '/RED.TIF']\n",
    "        bandNIR, bandRed = (rasterio.open(f) for f in listFile)\n",
    "        \n",
    "        meta = bandNIR.meta\n",
    "        meta['dtype'] = 'float32'\n",
    "        \n",
    "        print(\"Processing %s\" % path)\n",
    "        bandNIR = bandNIR.read(1)\n",
    "        bandRed = bandRed.read(1)\n",
    "\n",
    "        NDVI = np.zeros(rasterio.open(listFile[0]).shape, dtype=rasterio.float32)\n",
    "        for i in range(NDVI.shape[0]):\n",
    "            for j in range(NDVI.shape[1]):\n",
    "                nir = bandNIR[i,j].astype(float)\n",
    "                red = bandRed[i,j].astype(float)\n",
    "                NDVI[i,j] = (nir - red) / (nir + red)\n",
    "                if math.isnan(NDVI[i,j]):\n",
    "                   NDVI[i,j] = 1\n",
    "        with rasterio.open(path + '/NDVI.TIF', 'w', **meta) as dst:\n",
    "            dst.write(NDVI, 1)"
   ]
  },
  {
   "cell_type": "markdown",
   "metadata": {},
   "source": [
    "## Read Shapefile"
   ]
  },
  {
   "cell_type": "code",
   "execution_count": 22,
   "metadata": {
    "scrolled": true
   },
   "outputs": [
    {
     "data": {
      "image/png": "[encoded data removed]",
      "text/plain": [
       "<matplotlib.figure.Figure at 0x7f002ded9cf8>"
      ]
     },
     "metadata": {},
     "output_type": "display_data"
    }
   ],
   "source": [
    "cambodia_waterbodies_path = 'water-bodies-09-08-2016'\n",
    "df = gpd.read_file(cambodia_waterbodies_path)\n",
    "tonlesap = df[df.name == 'Boeung Tonle Sap']\n",
    "tonlesap.plot();"
   ]
  },
  {
   "cell_type": "code",
   "execution_count": 5,
   "metadata": {},
   "outputs": [],
   "source": [
    "from rasterio.crs import CRS\n",
    "from rasterio.warp import transform_geom\n",
    "from shapely.geometry import shape, mapping, Polygon, MultiPolygon\n",
    "from matplotlib.collections import PatchCollection\n",
    "from descartes import PolygonPatch"
   ]
  },
  {
   "cell_type": "code",
   "execution_count": 23,
   "metadata": {},
   "outputs": [],
   "source": [
    "# This function draw a list of geometry objects onto AX object\n",
    "def plot_shapes(shapes, ax=None, overlay=False):\n",
    "\n",
    "    cm = plt.get_cmap('jet')\n",
    "    num_colors = len(shapes)\n",
    "\n",
    "    if ax is None:\n",
    "        fig = plt.figure()\n",
    "        ax = fig.add_subplot(111)\n",
    "\n",
    "    mp = MultiPolygon(shapes)\n",
    "\n",
    "    xmin, ymin, xmax, ymax = mp.bounds\n",
    "    w, h = xmax - xmin, ymax - ymin\n",
    "\n",
    "    ax.set_xlim(xmin - 0.2 * w, xmax + 0.2 * w)\n",
    "    ax.set_ylim(ymin - 0.2 * h, ymax + 0.2 * h)\n",
    "    ax.set_aspect(1.0)\n",
    "\n",
    "    patches = []\n",
    "    for idx, p in enumerate(shapes):\n",
    "        color = cm(1. * idx/num_colors)\n",
    "        if overlay:\n",
    "            patches.append(PolygonPatch(p, fc='none', ec='#555555', zorder=1))\n",
    "        else:\n",
    "            patches.append(PolygonPatch(p, fc=color, ec='#555555', alpha=.5, zorder=1))\n",
    "    ax.add_collection(PatchCollection(patches, match_original=True))\n",
    "    return ax"
   ]
  },
  {
   "cell_type": "code",
   "execution_count": 233,
   "metadata": {
    "scrolled": true
   },
   "outputs": [
    {
     "name": "stderr",
     "output_type": "stream",
     "text": [
      "/home/ahldt/.local/lib/python3.6/site-packages/IPython/core/interactiveshell.py:2910: FutureWarning: The value of this property will change in version 1.0. Please see https://github.com/mapbox/rasterio/issues/86 for details.\n",
      "  exec(code_obj, self.user_global_ns, self.user_ns)\n"
     ]
    }
   ],
   "source": [
    "src = rasterio.open('NDVI/201712/NDVI.TIF')\n",
    "trans = src.transform\n",
    "%matplotlib inline"
   ]
  },
  {
   "cell_type": "code",
   "execution_count": 234,
   "metadata": {},
   "outputs": [],
   "source": [
    "import rasterio.mask\n",
    "tonlesap_shape = tonlesap.geometry.values[0]\n",
    "tonlesap_geom = mapping(tonlesap_shape)\n",
    "import rasterio.mask\n",
    "tonlesap_shape = [transform_geom(df.crs, src.crs, tonlesap_geom)]"
   ]
  },
  {
   "cell_type": "markdown",
   "metadata": {},
   "source": [
    "Create new shape to mask : Rectangle ~"
   ]
  },
  {
   "cell_type": "code",
   "execution_count": 235,
   "metadata": {},
   "outputs": [],
   "source": [
    "inf = float(\"inf\")\n",
    "x0, y0, x1, y1 = [inf, -inf, -inf, inf] #top-left, bottom-right\n",
    "for x, y in tonlesap_shape[0]['coordinates'][0]:\n",
    "    if x0 > x:\n",
    "        x0 = x\n",
    "    if x1 < x:\n",
    "        x1 = x\n",
    "    if y0 < y:\n",
    "        y0 = y\n",
    "    if y1 > y:\n",
    "        y1 = y\n",
    "new_coordinates = [{'type': 'Polygon', 'coordinates': [[(x0-1000, y0+1000),(x1+1000, y0+1000), \n",
    "                                                        (x1+1000, y1-1000), (x0-1000, y1-1000)]]}]\n",
    "nir, _ = rasterio.mask.mask(src, new_coordinates, crop=True)\n"
   ]
  },
  {
   "cell_type": "code",
   "execution_count": 236,
   "metadata": {},
   "outputs": [],
   "source": [
    "new_nir = np.zeros(nir.shape)\n",
    "m = nir.shape[1]\n",
    "n = nir.shape[2]\n",
    "\n",
    "for i in range(m):\n",
    "    for j in range(n):\n",
    "        val = nir[0,i,j]\n",
    "        new_nir[0,i,j] = val if val < 0 else 1"
   ]
  },
  {
   "cell_type": "markdown",
   "metadata": {},
   "source": [
    "## BFS-like"
   ]
  },
  {
   "cell_type": "code",
   "execution_count": 220,
   "metadata": {},
   "outputs": [],
   "source": [
    "def insideMatrix(x, y, m, n):\n",
    "    if x < 0 or x >= m or y < 0 or y >= n:\n",
    "        return False\n",
    "    return True"
   ]
  },
  {
   "cell_type": "code",
   "execution_count": 237,
   "metadata": {},
   "outputs": [
    {
     "name": "stdout",
     "output_type": "stream",
     "text": [
      "Areas Calculated in KM^2 = 2864.0592\n"
     ]
    },
    {
     "data": {
      "image/png": "[encoded data removed]",
      "text/plain": [
       "<matplotlib.figure.Figure at 0x7f0028a19c50>"
      ]
     },
     "metadata": {},
     "output_type": "display_data"
    }
   ],
   "source": [
    "from queue import Queue\n",
    "dx = [0,1,0,-1]\n",
    "dy = [1,0,-1,0]\n",
    "\n",
    "visited = np.zeros((nir.shape[1], nir.shape[2])).astype('bool')\n",
    "final_nir = np.zeros((nir.shape[1], nir.shape[2]))\n",
    "\n",
    "u0, v0 = 1000, 1000\n",
    "\n",
    "q = Queue()\n",
    "q.put((u0, v0))\n",
    "visited[u0, v0] = True\n",
    "countPixel = 0\n",
    "\n",
    "while not q.empty():\n",
    "    u, v = q.get()\n",
    "    final_nir[u, v] = -1\n",
    "    countPixel += 1\n",
    "    for k in range(4):\n",
    "        _u, _v = u + dx[k], v + dy[k]\n",
    "        if not insideMatrix(_u, _v, nir.shape[1], nir.shape[2]): \n",
    "            continue\n",
    "        if new_nir[0, _u, _v] < 0 and not visited[_u, _v]:\n",
    "            visited[_u, _v] = True\n",
    "            q.put((_u, _v))\n",
    "    \n",
    "pyplot.imshow(final_nir)\n",
    "print('Areas Calculated in KM^2 = {0}'.format(countPixel * 900 / 1000000))"
   ]
  },
  {
   "cell_type": "markdown",
   "metadata": {},
   "source": [
    "## Linear Regression"
   ]
  },
  {
   "cell_type": "code",
   "execution_count": 238,
   "metadata": {},
   "outputs": [
    {
     "data": {
      "image/png": "[encoded data removed]",
      "text/plain": [
       "<matplotlib.figure.Figure at 0x7f00289867f0>"
      ]
     },
     "metadata": {},
     "output_type": "display_data"
    }
   ],
   "source": [
    "areaCalculated = [2381.5134, 2492.3394, 2455.1217, 2256.5034, 1642.392, None, None, 2387.547, 2601.6435, None, 2354.175,\n",
    "                 2480.7996, 2864.0592]\n",
    "#5, 6/17: Error\n",
    "pyplot.plot(areaCalculated)\n",
    "pyplot.show()"
   ]
  }
 ],
 "metadata": {
  "kernelspec": {
   "display_name": "Python 3",
   "language": "python",
   "name": "python3"
  },
  "language_info": {
   "codemirror_mode": {
    "name": "ipython",
    "version": 3
   },
   "file_extension": ".py",
   "mimetype": "text/x-python",
   "name": "python",
   "nbconvert_exporter": "python",
   "pygments_lexer": "ipython3",
   "version": "3.6.3"
  }
 },
 "nbformat": 4,
 "nbformat_minor": 2
}
