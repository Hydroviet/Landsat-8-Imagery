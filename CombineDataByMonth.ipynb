{
 "cells": [
  {
   "cell_type": "code",
   "execution_count": 55,
   "metadata": {},
   "outputs": [],
   "source": [
    "import rasterio\n",
    "import numpy as np\n",
    "import matplotlib as mpl\n",
    "import subprocess\n",
    "from matplotlib import pyplot\n",
    "from rasterio.merge import merge\n"
   ]
  },
  {
   "cell_type": "markdown",
   "metadata": {},
   "source": [
    "## Combine band -> NDVI "
   ]
  },
  {
   "cell_type": "code",
   "execution_count": 64,
   "metadata": {},
   "outputs": [
    {
     "name": "stderr",
     "output_type": "stream",
     "text": [
      "/home/ahldt/.local/lib/python3.6/site-packages/rasterio/__init__.py:160: FutureWarning: GDAL-style transforms are deprecated and will not be supported in Rasterio 1.0.\n",
      "  transform = guard_transform(transform)\n"
     ]
    }
   ],
   "source": [
    "datasetName = 'LC08_L1TP_127051_20180114_20180120_01_T1'\n",
    "listFile = ['Data/' + datasetName + '/' + datasetName + '_B5.TIF',\n",
    "           'Data/' + datasetName + '/' + datasetName + '_B4.TIF',\n",
    "           'Data/' + datasetName + '/' + datasetName + '_B3.TIF']\n",
    "with rasterio.open(listFile[0]) as src:\n",
    "    meta = src.meta\n",
    "\n",
    "meta.update(count = len(listFile))\n",
    "\n",
    "with rasterio.open('NDVI_Combined/201801_1.TIF','w', **meta) as des:\n",
    "    for id, layer in enumerate(listFile):\n",
    "        with rasterio.open(layer) as src:\n",
    "            des.write_band(id + 1, src.read(1))"
   ]
  },
  {
   "cell_type": "markdown",
   "metadata": {},
   "source": [
    "## Merge GeoTIFF Data"
   ]
  },
  {
   "cell_type": "code",
   "execution_count": 92,
   "metadata": {},
   "outputs": [],
   "source": [
    "\n",
    "monthYearLabel = '201801'\n",
    "datasets = ['NDVI_Combined/' + monthYearLabel + '_1.TIF',\n",
    "           'NDVI_Combined/' + monthYearLabel + '_2.TIF']\n",
    "\n",
    "listFile = [rasterio.open(f) for f in datasets]\n",
    "\n",
    "dest, output_transform = merge(listFile)\n",
    "\n",
    "profile = listFile[0].profile\n",
    "profile['transform'] = output_transform\n",
    "profile['height'] = dest.shape[1]\n",
    "profile['width'] = dest.shape[2]\n",
    "# profile['driver'] = drive\n",
    "\n",
    "# profile.update(**creation_options)\n",
    "\n",
    "with rasterio.open('NDVI/' + monthYearLabel + '.TIF', 'w', **profile) as dst:\n",
    "    dst.write(dest)\n",
    "    \n",
    "    try:\n",
    "        colormap = listFile[0].colormap(1)\n",
    "        dst.write_colormap(1, colormap)\n",
    "    except ValueError:\n",
    "        pass"
   ]
  },
  {
   "cell_type": "markdown",
   "metadata": {},
   "source": [
    "## Calculate NDVI (old)"
   ]
  },
  {
   "cell_type": "code",
   "execution_count": 55,
   "metadata": {},
   "outputs": [
    {
     "name": "stderr",
     "output_type": "stream",
     "text": [
      "/home/ahldt/.local/lib/python3.6/site-packages/ipykernel_launcher.py:12: RuntimeWarning: divide by zero encountered in true_divide\n",
      "  if sys.path[0] == '':\n",
      "/home/ahldt/.local/lib/python3.6/site-packages/ipykernel_launcher.py:12: RuntimeWarning: invalid value encountered in true_divide\n",
      "  if sys.path[0] == '':\n"
     ]
    }
   ],
   "source": [
    "\n",
    "\n",
    "geoTiffData = rasterio.open('NDVI/201612.TIF')\n",
    "\n",
    "bands = geoTiffData.read()\n",
    "nir = bands[0]\n",
    "red = bands[1]\n",
    "\n",
    "ndvi = np.zeros(red.shape, dtype=rasterio.float32)\n",
    "    # print(nir)\n",
    "ndvi = (nir.astype(float)-red.astype(float))/(nir+red).astype(float)\n",
    "# kwargs = geoTiffData.meta\n",
    "# kwargs.update(\n",
    "#     dtype=rasterio.float32,\n",
    "#     count=1)\n",
    "\n",
    "# with rasterio.open('example-total.tif', 'w', **kwargs) as dst:\n",
    "#     dst.write_band(1, ndvi.astype(rasterio.float32))\n"
   ]
  },
  {
   "cell_type": "code",
   "execution_count": null,
   "metadata": {},
   "outputs": [
    {
     "data": {
      "text/plain": [
       "<matplotlib.image.AxesImage at 0x7fb99ada0b38>"
      ]
     },
     "execution_count": 66,
     "metadata": {},
     "output_type": "execute_result"
    }
   ],
   "source": [
    "from rasterio.tools.mask import mask\n",
    "from rasterio.merge import merge\n",
    "\n",
    "bands = geoTiffData.read()\n",
    "pyplot.imshow(ndvi)\n",
    "pyplot.imshow(bands[1])"
   ]
  },
  {
   "cell_type": "code",
   "execution_count": null,
   "metadata": {
    "scrolled": true
   },
   "outputs": [],
   "source": [
    "ndvi_score = np.zeros(geoTiffData.shape, dtype=rasterio.float32)\n",
    "pyplot.imshow(bands[2])"
   ]
  },
  {
   "cell_type": "code",
   "execution_count": 57,
   "metadata": {
    "scrolled": true
   },
   "outputs": [
    {
     "data": {
      "text/plain": [
       "{'affine': Affine(30.0, 0.0, 227385.0,\n",
       "       0.0, -30.0, 1555215.0),\n",
       " 'count': 3,\n",
       " 'crs': CRS({'init': 'epsg:32648'}),\n",
       " 'driver': 'GTiff',\n",
       " 'dtype': 'uint16',\n",
       " 'height': 7781,\n",
       " 'nodata': None,\n",
       " 'transform': (227385.0, 30.0, 0.0, 1555215.0, 0.0, -30.0),\n",
       " 'width': 13201}"
      ]
     },
     "execution_count": 57,
     "metadata": {},
     "output_type": "execute_result"
    }
   ],
   "source": [
    "kwargs = geoTiffData.meta\n",
    "kwargs"
   ]
  },
  {
   "cell_type": "code",
   "execution_count": 27,
   "metadata": {
    "scrolled": true
   },
   "outputs": [
    {
     "name": "stderr",
     "output_type": "stream",
     "text": [
      "/home/ahldt/.local/lib/python3.6/site-packages/rasterio/__init__.py:160: FutureWarning: GDAL-style transforms are deprecated and will not be supported in Rasterio 1.0.\n",
      "  transform = guard_transform(transform)\n"
     ]
    }
   ],
   "source": [
    "with rasterio.open('example-total.tif', 'w', **kwargs) as dst:\n",
    "    dst.write_band(1, ndvi_score.astype(rasterio.float32))"
   ]
  },
  {
   "cell_type": "markdown",
   "metadata": {},
   "source": [
    "## Calculate NDVI by original Data"
   ]
  },
  {
   "cell_type": "code",
   "execution_count": 58,
   "metadata": {},
   "outputs": [],
   "source": [
    "datasetName = 'LC08_L1TP_127051_20180114_20180120_01_T1'\n",
    "listFile = ['Data/' + datasetName + '/' + datasetName + '_B6.TIF',\n",
    "            'Data/' + datasetName + '/' + datasetName + '_B5.TIF',\n",
    "           'Data/' + datasetName + '/' + datasetName + '_B4.TIF',\n",
    "           'Data/' + datasetName + '/' + datasetName + '_B3.TIF']\n",
    "bandMIR, bandNIR, bandRed, bandGreen = (rasterio.open(f) for f in listFile)\n",
    "\n",
    "bandMIR = bandMIR.read()[0]\n",
    "bandNIR = bandNIR.read()[0]\n",
    "bandRed = bandRed.read()[0]\n",
    "bandGreen = bandGreen.read()[0]\n",
    "\n",
    "NDVI = np.zeros(rasterio.open(listFile[0]).shape, dtype=rasterio.float32)\n",
    "MNDWI = np.zeros(rasterio.open(listFile[0]).shape, dtype=rasterio.float32)"
   ]
  },
  {
   "cell_type": "code",
   "execution_count": null,
   "metadata": {},
   "outputs": [
    {
     "name": "stderr",
     "output_type": "stream",
     "text": [
      "/home/ahldt/.local/lib/python3.6/site-packages/ipykernel_launcher.py:10: RuntimeWarning: invalid value encountered in double_scalars\n",
      "  # Remove the CWD from sys.path while we load stuff.\n",
      "/home/ahldt/.local/lib/python3.6/site-packages/ipykernel_launcher.py:13: RuntimeWarning: invalid value encountered in double_scalars\n",
      "  del sys.path[0]\n"
     ]
    }
   ],
   "source": [
    "import math\n",
    "_NDVI = np.zeros(rasterio.open(listFile[0]).shape, dtype=rasterio.float32)\n",
    "\n",
    "for i in range(NDVI.shape[0]):\n",
    "    for j in range(NDVI.shape[1]):\n",
    "        nir = bandNIR[i,j].astype(float)\n",
    "        red = bandRed[i,j].astype(float)\n",
    "        green = bandGreen[i,j].astype(float)\n",
    "        mir = bandMIR[i,j].astype(float)\n",
    "        NDVI[i,j] = (nir - red) / (nir + red)\n",
    "        if math.isnan(NDVI[i,j]):\n",
    "           NDVI[i,j] = 1\n",
    "        MNDWI[i,j] = (green - mir) / (green + mir)\n",
    "        if math.isnan(MNDWI[i,j]):\n",
    "           MNDWI[i,j] = 1"
   ]
  },
  {
   "cell_type": "code",
   "execution_count": 59,
   "metadata": {
    "scrolled": false
   },
   "outputs": [
    {
     "data": {
      "text/plain": [
       "<matplotlib.image.AxesImage at 0x7f12664b1e80>"
      ]
     },
     "execution_count": 59,
     "metadata": {},
     "output_type": "execute_result"
    },
    {
     "data": {
      "image/png": "[encoded data removed]",
      "text/plain": [
       "<matplotlib.figure.Figure at 0x7f127b9f12e8>"
      ]
     },
     "metadata": {},
     "output_type": "display_data"
    }
   ],
   "source": [
    "pyplot.imshow(NDVI)"
   ]
  },
  {
   "cell_type": "code",
   "execution_count": null,
   "metadata": {},
   "outputs": [],
   "source": [
    "pyplot.imshow(MNDWI)"
   ]
  },
  {
   "cell_type": "code",
   "execution_count": null,
   "metadata": {},
   "outputs": [],
   "source": [
    "Writing NDVI/MNDWI -> File"
   ]
  },
  {
   "cell_type": "code",
   "execution_count": 57,
   "metadata": {},
   "outputs": [
    {
     "name": "stderr",
     "output_type": "stream",
     "text": [
      "/home/ahldt/.local/lib/python3.6/site-packages/rasterio/__init__.py:160: FutureWarning: GDAL-style transforms are deprecated and will not be supported in Rasterio 1.0.\n",
      "  transform = guard_transform(transform)\n"
     ]
    }
   ],
   "source": [
    "kwargs = rasterio.open(listFile[0]).meta\n",
    "kwargs.update(\n",
    "    dtype=rasterio.float32,\n",
    "    count=1,\n",
    "    compress='lzw')\n",
    "with rasterio.open('example-total.tif', 'w', **kwargs) as dst:\n",
    "    dst.write_band(1, NDVI.astype(rasterio.float32))"
   ]
  }
 ],
 "metadata": {
  "kernelspec": {
   "display_name": "Python 3",
   "language": "python",
   "name": "python3"
  },
  "language_info": {
   "codemirror_mode": {
    "name": "ipython",
    "version": 3
   },
   "file_extension": ".py",
   "mimetype": "text/x-python",
   "name": "python",
   "nbconvert_exporter": "python",
   "pygments_lexer": "ipython3",
   "version": "3.6.3"
  }
 },
 "nbformat": 4,
 "nbformat_minor": 2
}
