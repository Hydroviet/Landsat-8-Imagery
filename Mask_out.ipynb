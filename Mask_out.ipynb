{
 "cells": [
  {
   "cell_type": "code",
   "execution_count": 1,
   "metadata": {},
   "outputs": [],
   "source": [
    "import rasterio\n",
    "import numpy as np\n",
    "import geopandas as gpd\n",
    "import subprocess\n",
    "\n",
    "from matplotlib import pyplot\n",
    "\n",
    "from rasterio.merge import merge\n",
    "from rasterio.crs import CRS\n",
    "from rasterio.warp import transform_geom\n",
    "import rasterio.mask\n",
    "\n",
    "from shapely.geometry import shape, mapping, Polygon, MultiPolygon\n",
    "from descartes import PolygonPatch"
   ]
  },
  {
   "cell_type": "markdown",
   "metadata": {},
   "source": [
    "## Read Shapefile"
   ]
  },
  {
   "cell_type": "code",
   "execution_count": 2,
   "metadata": {
    "scrolled": true
   },
   "outputs": [],
   "source": [
    "cambodia_waterbodies_path = 'water-bodies-09-08-2016'\n",
    "df = gpd.read_file(cambodia_waterbodies_path)\n",
    "tonlesap = df[df.name == 'Boeung Tonle Sap']"
   ]
  },
  {
   "cell_type": "markdown",
   "metadata": {},
   "source": [
    "## Mask GeoTiff Data"
   ]
  },
  {
   "cell_type": "code",
   "execution_count": 3,
   "metadata": {
    "scrolled": false
   },
   "outputs": [
    {
     "name": "stderr",
     "output_type": "stream",
     "text": [
      "/home/ahldt/.local/lib/python3.6/site-packages/IPython/core/interactiveshell.py:2910: FutureWarning: The value of this property will change in version 1.0. Please see https://github.com/mapbox/rasterio/issues/86 for details.\n",
      "  exec(code_obj, self.user_global_ns, self.user_ns)\n"
     ]
    }
   ],
   "source": [
    "dataset = '201712'\n",
    "src_ndvi = rasterio.open('MERGED/' + dataset + '/NDVI.TIF')\n",
    "src_ndwi = rasterio.open('MERGED/' + dataset + '/NDWI.TIF')\n",
    "src_ndwi2 = rasterio.open('MERGED/' + dataset + '/NDWI2.TIF')\n",
    "trans = src_ndvi.transform"
   ]
  },
  {
   "cell_type": "code",
   "execution_count": 4,
   "metadata": {},
   "outputs": [],
   "source": [
    "tonlesap_shape = tonlesap.geometry.values[0]\n",
    "tonlesap_geom = mapping(tonlesap_shape)\n",
    "tonlesap_shape = [transform_geom(df.crs, src_ndvi.crs, tonlesap_geom)]"
   ]
  },
  {
   "cell_type": "markdown",
   "metadata": {},
   "source": [
    "Create new shape to mask : Rectangle ~"
   ]
  },
  {
   "cell_type": "code",
   "execution_count": 5,
   "metadata": {},
   "outputs": [],
   "source": [
    "inf = float(\"inf\")\n",
    "x0, y0, x1, y1 = [inf, -inf, -inf, inf] #top-left, bottom-right\n",
    "for x, y in tonlesap_shape[0]['coordinates'][0]:\n",
    "    if x0 > x:\n",
    "        x0 = x\n",
    "    if x1 < x:\n",
    "        x1 = x\n",
    "    if y0 < y:\n",
    "        y0 = y\n",
    "    if y1 > y:\n",
    "        y1 = y\n",
    "new_coordinates = [{'type': 'Polygon', 'coordinates': [[(x0-1000, y0+1000),(x1+1000, y0+1000), \n",
    "                                                        (x1+1000, y1-1000), (x0-1000, y1-1000)]]}]\n",
    "ndvi, _ = rasterio.mask.mask(src_ndvi, new_coordinates, crop=True)\n",
    "ndwi, _ = rasterio.mask.mask(src_ndwi, new_coordinates, crop=True)\n",
    "ndwi2, _ = rasterio.mask.mask(src_ndwi2, new_coordinates, crop=True)"
   ]
  },
  {
   "cell_type": "code",
   "execution_count": 6,
   "metadata": {},
   "outputs": [],
   "source": [
    "new_ndvi = np.zeros(ndvi.shape)\n",
    "m = ndvi.shape[1]\n",
    "n = ndvi.shape[2]\n",
    "for i in range(m):\n",
    "    for j in range(n):\n",
    "        val = ndvi[0,i,j]\n",
    "        new_ndvi[0,i,j] = val if val < 0 else 1"
   ]
  },
  {
   "cell_type": "code",
   "execution_count": 7,
   "metadata": {},
   "outputs": [],
   "source": [
    "new_ndwi2 = np.zeros(ndwi2.shape)\n",
    "m = ndwi2.shape[1]\n",
    "n = ndwi2.shape[2]\n",
    "for i in range(m):\n",
    "    for j in range(n):\n",
    "        val = ndwi2[0,i,j]\n",
    "        new_ndwi2[0,i,j] = val if val > 0 else -1"
   ]
  },
  {
   "cell_type": "code",
   "execution_count": 8,
   "metadata": {},
   "outputs": [],
   "source": [
    "new_ndwi = np.zeros(ndwi.shape)\n",
    "m = ndwi.shape[1]\n",
    "n = ndwi.shape[2]\n",
    "for i in range(m):\n",
    "    for j in range(n):\n",
    "        val = ndwi[0,i,j]\n",
    "        new_ndwi[0,i,j] = val if val > 0 else -1"
   ]
  },
  {
   "cell_type": "markdown",
   "metadata": {},
   "source": [
    "## Expansion using BFS-methods"
   ]
  },
  {
   "cell_type": "code",
   "execution_count": 9,
   "metadata": {},
   "outputs": [],
   "source": [
    "def insideMatrix(x, y, m, n):\n",
    "    if x < 0 or x >= m or y < 0 or y >= n:\n",
    "        return False\n",
    "    return True"
   ]
  },
  {
   "cell_type": "markdown",
   "metadata": {},
   "source": [
    "Function for expansion"
   ]
  },
  {
   "cell_type": "code",
   "execution_count": 10,
   "metadata": {},
   "outputs": [],
   "source": [
    "def check_expansion(val, type_of_map):\n",
    "    if (type_of_map == 'NDVI'):\n",
    "        if (val < 0):\n",
    "            return True;\n",
    "        return False;\n",
    "    if (type_of_map == 'NDWI'):\n",
    "        if (val > 0):\n",
    "            return True;\n",
    "        return False;\n",
    "    if (type_of_map == 'NDWI2'):\n",
    "        if (val > 0):\n",
    "            return True;\n",
    "        return False;  \n",
    "    return null;"
   ]
  },
  {
   "cell_type": "markdown",
   "metadata": {},
   "source": [
    "Count pixel depends on type of Map:"
   ]
  },
  {
   "cell_type": "code",
   "execution_count": 11,
   "metadata": {},
   "outputs": [],
   "source": [
    "def count_pixel(obj, type_of_map, startingPoint):\n",
    "    from queue import Queue\n",
    "    dx = [0,1,0,-1]\n",
    "    dy = [1,0,-1,0]\n",
    "\n",
    "    visited = np.zeros((obj.shape[1], obj.shape[2])).astype('bool')\n",
    "    final_obj= np.zeros((obj.shape[1], obj.shape[2]))\n",
    "\n",
    "    u0, v0 = startingPoint[0], startingPoint[1]\n",
    "\n",
    "    q = Queue()\n",
    "    q.put((u0, v0))\n",
    "    visited[u0, v0] = True\n",
    "    countPixel = 0\n",
    "\n",
    "    while not q.empty():\n",
    "        u, v = q.get()\n",
    "        final_obj[u, v] = -1\n",
    "        countPixel += 1\n",
    "        for k in range(4):\n",
    "            _u, _v = u + dx[k], v + dy[k]\n",
    "            if not insideMatrix(_u, _v, obj.shape[1], obj.shape[2]): \n",
    "                continue\n",
    "            if check_expansion(obj[0, _u, _v], type_of_map) and not visited[_u, _v]:\n",
    "                visited[_u, _v] = True\n",
    "                q.put((_u, _v))\n",
    "    pyplot.imshow(final_obj)\n",
    "    return countPixel"
   ]
  },
  {
   "cell_type": "code",
   "execution_count": 12,
   "metadata": {},
   "outputs": [
    {
     "data": {
      "text/plain": [
       "'201712'"
      ]
     },
     "execution_count": 12,
     "metadata": {},
     "output_type": "execute_result"
    }
   ],
   "source": [
    "dataset"
   ]
  },
  {
   "cell_type": "code",
   "execution_count": 13,
   "metadata": {},
   "outputs": [
    {
     "data": {
      "text/plain": [
       "2864.0592"
      ]
     },
     "execution_count": 13,
     "metadata": {},
     "output_type": "execute_result"
    },
    {
     "data": {
      "image/png": "[encoded data removed]",
      "text/plain": [
       "<matplotlib.figure.Figure at 0x7f870e05c048>"
      ]
     },
     "metadata": {},
     "output_type": "display_data"
    }
   ],
   "source": [
    "count_pixel(ndvi, 'NDVI', [1000, 1000]) * 900 / 1000000"
   ]
  },
  {
   "cell_type": "code",
   "execution_count": 14,
   "metadata": {},
   "outputs": [
    {
     "data": {
      "text/plain": [
       "3035.4471"
      ]
     },
     "execution_count": 14,
     "metadata": {},
     "output_type": "execute_result"
    },
    {
     "data": {
      "image/png": "[encoded data removed]",
      "text/plain": [
       "<matplotlib.figure.Figure at 0x7f87583e57f0>"
      ]
     },
     "metadata": {},
     "output_type": "display_data"
    }
   ],
   "source": [
    "count_pixel(ndwi, 'NDWI', [1000, 1000]) * 900 / 1000000"
   ]
  },
  {
   "cell_type": "code",
   "execution_count": 15,
   "metadata": {
    "scrolled": true
   },
   "outputs": [
    {
     "data": {
      "text/plain": [
       "3772.2852"
      ]
     },
     "execution_count": 15,
     "metadata": {},
     "output_type": "execute_result"
    },
    {
     "data": {
      "image/png": "[encoded data removed]",
      "text/plain": [
       "<matplotlib.figure.Figure at 0x7f870e01ab38>"
      ]
     },
     "metadata": {},
     "output_type": "display_data"
    }
   ],
   "source": [
    "count_pixel(ndwi2, 'NDWI2', [1000, 1000]) * 900 / 1000000"
   ]
  },
  {
   "cell_type": "markdown",
   "metadata": {},
   "source": [
    "## Data Calculated"
   ]
  },
  {
   "cell_type": "code",
   "execution_count": 17,
   "metadata": {},
   "outputs": [],
   "source": [
    "data_collected = [\n",
    "    {\n",
    "        'dataset': '201612',\n",
    "        'ndvi': 2455.1217,\n",
    "        'ndwi': 2576.6064,\n",
    "        'ndwi2': 2749.0653\n",
    "    },\n",
    "    {\n",
    "        'dataset': '201701',\n",
    "        'ndvi': 2492.3394,\n",
    "        'ndwi': 2723.6862,\n",
    "        'ndwi2': 3083.7717\n",
    "    },\n",
    "    {\n",
    "        'dataset': '201702',\n",
    "        'ndvi': 2455.1217,\n",
    "        'ndwi': 2576.6064,\n",
    "        'ndwi2': 2749.0653\n",
    "    },\n",
    "    {\n",
    "        'dataset': '201703',\n",
    "        'ndvi': 2256.5034,\n",
    "        'ndwi': 2136.7512,\n",
    "        'ndwi2': 2779.1991\n",
    "    },\n",
    "    {\n",
    "        'dataset': '201704',\n",
    "        'ndvi': 1642.392,\n",
    "        'ndwi': 0.0009,\n",
    "        'ndwi2': 2454.0516\n",
    "    },\n",
    "    {\n",
    "        'dataset': '201705',\n",
    "        'ndvi': 1257.3747,\n",
    "        'ndwi': 472.7358,\n",
    "        'ndwi2': 2551.2696\n",
    "    },\n",
    "    {\n",
    "        'dataset': '201706',\n",
    "        'ndvi': 1543.4145,\n",
    "        'ndwi': 943.8552,\n",
    "        'ndwi2': 3012.9354\n",
    "    },\n",
    "    {\n",
    "        'dataset': '201707',\n",
    "        'ndvi': 2387.547,\n",
    "        'ndwi': 2291.1777,\n",
    "        'ndwi2': 3294.4464\n",
    "    },\n",
    "    {\n",
    "        'dataset': '201708',\n",
    "        'ndvi': 2601.6435,\n",
    "        'ndwi': 2730.7782,\n",
    "        'ndwi2': 4749.1713\n",
    "    },\n",
    "    {\n",
    "        'dataset': '201709',\n",
    "        'ndvi': 1046.772,\n",
    "        'ndwi': 1913.9562,\n",
    "        'ndwi2': 5407.8867\n",
    "    },\n",
    "    {\n",
    "        'dataset': '201710',\n",
    "        'ndvi': 2354.175,\n",
    "        'ndwi': 2656.8711,\n",
    "        'ndwi2': 5391.6444\n",
    "    },\n",
    "    {\n",
    "        'dataset': '201711',\n",
    "        'ndvi': 2480.7996,\n",
    "        'ndwi': 2649.7107,\n",
    "        'ndwi2': 6477.8256\n",
    "    },\n",
    "    {\n",
    "        'dataset': '201712',\n",
    "        'ndvi': 2864.0592,\n",
    "        'ndwi': 3035.4471,\n",
    "        'ndwi2': 3772.2852\n",
    "    }\n",
    "]"
   ]
  },
  {
   "cell_type": "markdown",
   "metadata": {},
   "source": [
    "Get each array"
   ]
  },
  {
   "cell_type": "code",
   "execution_count": 21,
   "metadata": {},
   "outputs": [],
   "source": [
    "ndvi_set = [x['ndvi'] for x in data_collected]\n",
    "ndwi_set = [x['ndwi'] for x in data_collected]\n",
    "ndwi2_set = [x['ndwi2'] for x in data_collected]"
   ]
  },
  {
   "cell_type": "markdown",
   "metadata": {},
   "source": [
    "Simulating result"
   ]
  },
  {
   "cell_type": "code",
   "execution_count": 22,
   "metadata": {},
   "outputs": [
    {
     "data": {
      "image/png": "[encoded data removed]",
      "text/plain": [
       "<matplotlib.figure.Figure at 0x7f870d8df8d0>"
      ]
     },
     "metadata": {},
     "output_type": "display_data"
    }
   ],
   "source": [
    "pyplot.plot(ndvi_set, 'r')\n",
    "pyplot.plot(ndwi_set, 'g')\n",
    "pyplot.plot(ndwi2_set, 'b')\n",
    "pyplot.show()"
   ]
  },
  {
   "cell_type": "markdown",
   "metadata": {},
   "source": [
    "Data floodobervartory"
   ]
  },
  {
   "cell_type": "code",
   "execution_count": 23,
   "metadata": {},
   "outputs": [
    {
     "data": {
      "image/png": "[encoded data removed]",
      "text/plain": [
       "<matplotlib.figure.Figure at 0x7f870df96780>"
      ]
     },
     "metadata": {},
     "output_type": "display_data"
    }
   ],
   "source": [
    "flood_data = [756, 415, 290, 147, 138, 219, 296, 446, 1147, 1257, 1846, 1026, 955]\n",
    "pyplot.plot(flood_data)\n",
    "pyplot.show()"
   ]
  }
 ],
 "metadata": {
  "kernelspec": {
   "display_name": "Python 3",
   "language": "python",
   "name": "python3"
  },
  "language_info": {
   "codemirror_mode": {
    "name": "ipython",
    "version": 3
   },
   "file_extension": ".py",
   "mimetype": "text/x-python",
   "name": "python",
   "nbconvert_exporter": "python",
   "pygments_lexer": "ipython3",
   "version": "3.6.3"
  }
 },
 "nbformat": 4,
 "nbformat_minor": 2
}
