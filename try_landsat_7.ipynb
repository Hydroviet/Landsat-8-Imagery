{
 "cells": [
  {
   "cell_type": "code",
   "execution_count": 2,
   "metadata": {},
   "outputs": [],
   "source": [
    "import rasterio\n",
    "import numpy as np\n",
    "import matplotlib as mpl\n",
    "import subprocess\n",
    "from matplotlib import pyplot\n",
    "import geopandas as gpd"
   ]
  },
  {
   "cell_type": "markdown",
   "metadata": {},
   "source": [
    "\n",
    "## Calculate NDWI"
   ]
  },
  {
   "cell_type": "code",
   "execution_count": 4,
   "metadata": {},
   "outputs": [
    {
     "name": "stdout",
     "output_type": "stream",
     "text": [
      "Processing 1/31: L7_ETM/LE71240522001098SGS00\n"
     ]
    },
    {
     "name": "stderr",
     "output_type": "stream",
     "text": [
      "/home/anhldt/.local/lib/python3.5/site-packages/ipykernel_launcher.py:24: RuntimeWarning: invalid value encountered in double_scalars\n",
      "/home/anhldt/.local/lib/python3.5/site-packages/rasterio/__init__.py:99: FutureWarning: GDAL-style transforms are deprecated and will not be supported in Rasterio 1.0.\n",
      "  transform = guard_transform(transform)\n"
     ]
    },
    {
     "name": "stdout",
     "output_type": "stream",
     "text": [
      "Processing 2/31: L7_ETM/LE71240522001338BKT00\n",
      "Processing 3/31: L7_ETM/LE71240522003136EDC01\n",
      "Processing 4/31: L7_ETM/LE71240522002245BKT00\n",
      "Processing 5/31: L7_ETM/LE71240522003024EDC00\n",
      "Processing 6/31: L7_ETM/LE71240522002213BKT00\n",
      "Processing 7/31: L7_ETM/LE71240522002277SGS00\n",
      "Processing 8/31: L7_ETM/LE71240522001002EDC00\n",
      "Processing 9/31: L7_ETM/LE71240522002341EDC00\n",
      "Processing 10/31: L7_ETM/LE71240522002261BKT01\n",
      "Processing 11/31: L7_ETM/LE71240522002085SGS00\n",
      "Processing 12/31: L7_ETM/LE71240522001354BKT06\n",
      "Processing 13/31: L7_ETM/LE71240522001034SGS00\n",
      "Processing 14/31: L7_ETM/LE71240522003072BKT01\n",
      "Processing 15/31: L7_ETM/LE71240522001322SGS00\n",
      "Processing 16/31: L7_ETM/LE71240522002165SGS01\n",
      "Processing 17/31: L7_ETM/LE71240522002101SGS00\n",
      "Processing 18/31: L7_ETM/LE71240522002229BKT00\n",
      "Processing 19/31: L7_ETM/LE71240522003008BKT00\n",
      "Processing 20/31: L7_ETM/LE71240522002133SGS00\n",
      "Processing 21/31: L7_ETM/LE71240522002069BKT00\n",
      "Processing 22/31: L7_ETM/LE71240522002117SGS00\n",
      "Processing 23/31: L7_ETM/LE71240522001258SGS00\n",
      "Processing 24/31: L7_ETM/LE71240522003056BKT00\n",
      "Processing 25/31: L7_ETM/LE71240522003088EDC00\n",
      "Processing 26/31: L7_ETM/LE71240522002309BKT00\n",
      "Processing 27/31: L7_ETM/LE71240522002005SGS00\n",
      "Processing 28/31: L7_ETM/LE71240522002053BKT00\n",
      "Processing 29/31: L7_ETM/LE71240522002037BKT01\n",
      "Processing 30/31: L7_ETM/LE71240522002293SGS00\n",
      "Processing 31/31: L7_ETM/LE71240522001162SGS00\n"
     ]
    }
   ],
   "source": [
    "import os, math\n",
    "\n",
    "count = 0\n",
    "for root, dir, filenames in os.walk('L7_ETM/'):\n",
    "    for folder in dir:\n",
    "        count = count + 1\n",
    "        path = os.path.join('L7_ETM', folder)\n",
    "        listFile = [os.path.join(path , folder + '_B4.TIF'),\n",
    "                   os.path.join(path , folder + '_B2.TIF')]\n",
    "        bandNIR, bandGreen = (rasterio.open(f) for f in listFile)\n",
    "        \n",
    "        meta = bandNIR.meta\n",
    "        meta['dtype'] = 'float32'\n",
    "        \n",
    "        print(\"Processing {0}/{1}: {2}\".format(count, len(dir), path))\n",
    "        bandNIR = bandNIR.read(1)\n",
    "        bandGreen = bandGreen.read(1)\n",
    "\n",
    "        NDWI = np.zeros(rasterio.open(listFile[0]).shape, dtype=rasterio.float32)\n",
    "        for i in range(NDWI.shape[0]):\n",
    "            for j in range(NDWI.shape[1]):\n",
    "                nir = bandNIR[i,j].astype(float)\n",
    "                green = bandGreen[i,j].astype(float)\n",
    "                NDWI[i,j] = (green - nir) / (green + nir)\n",
    "                if math.isnan(NDWI[i,j]):\n",
    "                   NDWI[i,j] = -1\n",
    "        with rasterio.open(path + '/NDWI.TIF', 'w', **meta) as dst:\n",
    "            dst.write(NDWI, 1)\n",
    "\n",
    "print('Done')"
   ]
  },
  {
   "cell_type": "markdown",
   "metadata": {},
   "source": [
    "## Calculate NDWI 2"
   ]
  },
  {
   "cell_type": "code",
   "execution_count": 7,
   "metadata": {
    "scrolled": false
   },
   "outputs": [
    {
     "name": "stdout",
     "output_type": "stream",
     "text": [
      "Processing 1/31: L7_ETM/LE71240522001098SGS00\n"
     ]
    },
    {
     "name": "stderr",
     "output_type": "stream",
     "text": [
      "/home/anhldt/.local/lib/python3.5/site-packages/ipykernel_launcher.py:24: RuntimeWarning: invalid value encountered in double_scalars\n"
     ]
    },
    {
     "ename": "KeyboardInterrupt",
     "evalue": "",
     "output_type": "error",
     "traceback": [
      "\u001b[0;31m---------------------------------------------------------------------------\u001b[0m",
      "\u001b[0;31mKeyboardInterrupt\u001b[0m                         Traceback (most recent call last)",
      "\u001b[0;32m<ipython-input-7-19f04e1c631b>\u001b[0m in \u001b[0;36m<module>\u001b[0;34m()\u001b[0m\n\u001b[1;32m     23\u001b[0m                 \u001b[0mgreen\u001b[0m \u001b[0;34m=\u001b[0m \u001b[0mbandGreen\u001b[0m\u001b[0;34m[\u001b[0m\u001b[0mi\u001b[0m\u001b[0;34m,\u001b[0m\u001b[0mj\u001b[0m\u001b[0;34m]\u001b[0m\u001b[0;34m.\u001b[0m\u001b[0mastype\u001b[0m\u001b[0;34m(\u001b[0m\u001b[0mfloat\u001b[0m\u001b[0;34m)\u001b[0m\u001b[0;34m\u001b[0m\u001b[0m\n\u001b[1;32m     24\u001b[0m                 \u001b[0mNDWI2\u001b[0m\u001b[0;34m[\u001b[0m\u001b[0mi\u001b[0m\u001b[0;34m,\u001b[0m\u001b[0mj\u001b[0m\u001b[0;34m]\u001b[0m \u001b[0;34m=\u001b[0m \u001b[0;34m(\u001b[0m\u001b[0mgreen\u001b[0m \u001b[0;34m-\u001b[0m \u001b[0mswir\u001b[0m\u001b[0;34m)\u001b[0m \u001b[0;34m/\u001b[0m \u001b[0;34m(\u001b[0m\u001b[0mgreen\u001b[0m \u001b[0;34m+\u001b[0m \u001b[0mswir\u001b[0m\u001b[0;34m)\u001b[0m\u001b[0;34m\u001b[0m\u001b[0m\n\u001b[0;32m---> 25\u001b[0;31m                 \u001b[0;32mif\u001b[0m \u001b[0mmath\u001b[0m\u001b[0;34m.\u001b[0m\u001b[0misnan\u001b[0m\u001b[0;34m(\u001b[0m\u001b[0mNDWI2\u001b[0m\u001b[0;34m[\u001b[0m\u001b[0mi\u001b[0m\u001b[0;34m,\u001b[0m\u001b[0mj\u001b[0m\u001b[0;34m]\u001b[0m\u001b[0;34m)\u001b[0m\u001b[0;34m:\u001b[0m\u001b[0;34m\u001b[0m\u001b[0m\n\u001b[0m\u001b[1;32m     26\u001b[0m                     \u001b[0mNDWI2\u001b[0m\u001b[0;34m[\u001b[0m\u001b[0mi\u001b[0m\u001b[0;34m,\u001b[0m\u001b[0mj\u001b[0m\u001b[0;34m]\u001b[0m \u001b[0;34m=\u001b[0m \u001b[0;34m-\u001b[0m\u001b[0;36m1\u001b[0m\u001b[0;34m\u001b[0m\u001b[0m\n\u001b[1;32m     27\u001b[0m         \u001b[0;32mwith\u001b[0m \u001b[0mrasterio\u001b[0m\u001b[0;34m.\u001b[0m\u001b[0mopen\u001b[0m\u001b[0;34m(\u001b[0m\u001b[0mpath\u001b[0m \u001b[0;34m+\u001b[0m \u001b[0;34m'/NDWI2.TIF'\u001b[0m\u001b[0;34m,\u001b[0m \u001b[0;34m'w'\u001b[0m\u001b[0;34m,\u001b[0m \u001b[0;34m**\u001b[0m\u001b[0mmeta\u001b[0m\u001b[0;34m)\u001b[0m \u001b[0;32mas\u001b[0m \u001b[0mdst\u001b[0m\u001b[0;34m:\u001b[0m\u001b[0;34m\u001b[0m\u001b[0m\n",
      "\u001b[0;31mKeyboardInterrupt\u001b[0m: "
     ]
    }
   ],
   "source": [
    "import os, math\n",
    "\n",
    "count = 0\n",
    "for root, dir, filenames in os.walk('L7_ETM/'):\n",
    "    for folder in dir:\n",
    "        count = count + 1\n",
    "        path = os.path.join('L7_ETM', folder)\n",
    "        listFile = [os.path.join(path , folder + '_B5.TIF'),\n",
    "                   os.path.join(path , folder + '_B2.TIF')]\n",
    "        bandSWIR, bandGreen = (rasterio.open(f) for f in listFile)\n",
    "        \n",
    "        meta = bandSWIR.meta\n",
    "        meta['dtype'] = 'float32'\n",
    "        \n",
    "        print(\"Processing {0}/{1}: {2}\".format(count, len(dir), path))\n",
    "        bandSWIR = bandSWIR.read(1)\n",
    "        bandGreen = bandGreen.read(1)\n",
    "\n",
    "        NDWI2 = np.zeros(rasterio.open(listFile[0]).shape, dtype=rasterio.float32)\n",
    "        for i in range(NDWI2.shape[0]):\n",
    "            for j in range(NDWI2.shape[1]):\n",
    "                swir = bandSWIR[i,j].astype(float)\n",
    "                green = bandGreen[i,j].astype(float)\n",
    "                NDWI2[i,j] = (green - swir) / (green + swir)\n",
    "                if math.isnan(NDWI2[i,j]):\n",
    "                    NDWI2[i,j] = -1\n",
    "        with rasterio.open(path + '/NDWI2.TIF', 'w', **meta) as dst:\n",
    "            dst.write(NDWI2, 1)\n",
    "print('Done')"
   ]
  },
  {
   "cell_type": "markdown",
   "metadata": {},
   "source": [
    "## Masking shapefile"
   ]
  },
  {
   "cell_type": "code",
   "execution_count": 9,
   "metadata": {},
   "outputs": [],
   "source": [
    "geotiffPath = 'L7_ETM/LE71240522001338BKT00'\n",
    "NDWI = rasterio.open(geotiffPath + '/NDWI.TIF')\n",
    "NDWI2 = rasterio.open(geotiffPath + '/NDWI2.TIF')"
   ]
  },
  {
   "cell_type": "code",
   "execution_count": 10,
   "metadata": {},
   "outputs": [
    {
     "data": {
      "text/plain": [
       "<matplotlib.axes._subplots.AxesSubplot at 0x7f1c9c5ac5c0>"
      ]
     },
     "execution_count": 10,
     "metadata": {},
     "output_type": "execute_result"
    },
    {
     "data": {
      "image/png": "[encoded data removed]",
      "text/plain": [
       "<matplotlib.figure.Figure at 0x7f1c9c5edf60>"
      ]
     },
     "metadata": {},
     "output_type": "display_data"
    }
   ],
   "source": [
    "from matplotlib import pyplot as plt\n",
    "vn_reservoirs_path = 'vnreservoirs/VN_Reservoirs.shp'\n",
    "df = gpd.read_file(vn_reservoirs_path)\n",
    "plt.rcParams['figure.figsize'] = 5, 5\n",
    "ho_tri_an = df[df.AREA_SKM == 277.4]\n",
    "ho_tri_an.plot()"
   ]
  },
  {
   "cell_type": "code",
   "execution_count": 11,
   "metadata": {},
   "outputs": [
    {
     "ename": "ImportError",
     "evalue": "cannot import name 'CRSError'",
     "output_type": "error",
     "traceback": [
      "\u001b[0;31m---------------------------------------------------------------------------\u001b[0m",
      "\u001b[0;31mImportError\u001b[0m                               Traceback (most recent call last)",
      "\u001b[0;32m<ipython-input-11-51c860fecf32>\u001b[0m in \u001b[0;36m<module>\u001b[0;34m()\u001b[0m\n\u001b[0;32m----> 1\u001b[0;31m \u001b[0;32mfrom\u001b[0m \u001b[0mrasterio\u001b[0m\u001b[0;34m.\u001b[0m\u001b[0mcrs\u001b[0m \u001b[0;32mimport\u001b[0m \u001b[0mCRS\u001b[0m\u001b[0;34m\u001b[0m\u001b[0m\n\u001b[0m\u001b[1;32m      2\u001b[0m \u001b[0;32mfrom\u001b[0m \u001b[0mrasterio\u001b[0m\u001b[0;34m.\u001b[0m\u001b[0mwarp\u001b[0m \u001b[0;32mimport\u001b[0m \u001b[0mtransform_geom\u001b[0m\u001b[0;34m\u001b[0m\u001b[0m\n\u001b[1;32m      3\u001b[0m \u001b[0;32mimport\u001b[0m \u001b[0mrasterio\u001b[0m\u001b[0;34m.\u001b[0m\u001b[0mmask\u001b[0m\u001b[0;34m\u001b[0m\u001b[0m\n\u001b[1;32m      4\u001b[0m \u001b[0;34m\u001b[0m\u001b[0m\n\u001b[1;32m      5\u001b[0m \u001b[0;32mfrom\u001b[0m \u001b[0mshapely\u001b[0m\u001b[0;34m.\u001b[0m\u001b[0mgeometry\u001b[0m \u001b[0;32mimport\u001b[0m \u001b[0mshape\u001b[0m\u001b[0;34m,\u001b[0m \u001b[0mmapping\u001b[0m\u001b[0;34m,\u001b[0m \u001b[0mPolygon\u001b[0m\u001b[0;34m,\u001b[0m \u001b[0mMultiPolygon\u001b[0m\u001b[0;34m\u001b[0m\u001b[0m\n",
      "\u001b[0;32m~/.local/lib/python3.5/site-packages/rasterio/crs.py\u001b[0m in \u001b[0;36m<module>\u001b[0;34m()\u001b[0m\n\u001b[1;32m      2\u001b[0m \u001b[0;34m\u001b[0m\u001b[0m\n\u001b[1;32m      3\u001b[0m \u001b[0;32mfrom\u001b[0m \u001b[0mrasterio\u001b[0m\u001b[0;34m.\u001b[0m\u001b[0m_crs\u001b[0m \u001b[0;32mimport\u001b[0m \u001b[0m_CRS\u001b[0m\u001b[0;34m\u001b[0m\u001b[0m\n\u001b[0;32m----> 4\u001b[0;31m \u001b[0;32mfrom\u001b[0m \u001b[0mrasterio\u001b[0m\u001b[0;34m.\u001b[0m\u001b[0merrors\u001b[0m \u001b[0;32mimport\u001b[0m \u001b[0mCRSError\u001b[0m\u001b[0;34m\u001b[0m\u001b[0m\n\u001b[0m\u001b[1;32m      5\u001b[0m \u001b[0;32mfrom\u001b[0m \u001b[0mrasterio\u001b[0m\u001b[0;34m.\u001b[0m\u001b[0mcompat\u001b[0m \u001b[0;32mimport\u001b[0m \u001b[0mstring_types\u001b[0m\u001b[0;34m\u001b[0m\u001b[0m\n\u001b[1;32m      6\u001b[0m \u001b[0;34m\u001b[0m\u001b[0m\n",
      "\u001b[0;31mImportError\u001b[0m: cannot import name 'CRSError'"
     ]
    }
   ],
   "source": [
    "from rasterio.crs import CRS\n",
    "from rasterio.warp import transform_geom\n",
    "import rasterio.mask\n",
    "\n",
    "from shapely.geometry import shape, mapping, Polygon, MultiPolygon\n",
    "from descartes import PolygonPatch"
   ]
  },
  {
   "cell_type": "code",
   "execution_count": null,
   "metadata": {},
   "outputs": [],
   "source": [
    "raw_file = NDVI\n",
    "trans = raw_file.transform\n",
    "\n",
    "ho_tri_an_shape = ho_tri_an.geometry.values[0]\n",
    "ho_tri_an_geom = mapping(ho_tri_an_shape)\n",
    "ho_tri_an_shape = [transform_geom(df.crs, raw_file.crs,ho_tri_an_geom)]"
   ]
  },
  {
   "cell_type": "code",
   "execution_count": null,
   "metadata": {},
   "outputs": [],
   "source": [
    "inf = float(\"inf\")\n",
    "x0, y0, x1, y1 = [inf, -inf, -inf, inf] #top-left, bottom-right\n",
    "for x, y in ho_tri_an_shape[0]['coordinates'][0]:\n",
    "    if x0 > x:\n",
    "        x0 = x\n",
    "    if x1 < x:\n",
    "        x1 = x\n",
    "    if y0 < y:\n",
    "        y0 = y\n",
    "    if y1 > y:\n",
    "        y1 = y\n",
    "new_coordinates = [{'type': 'Polygon', 'coordinates': [[(x0-1000, y0+1000),(x1+1000, y0+1000), \n",
    "                                                        (x1+1000, y1-1000), (x0-1000, y1-1000)]]}]\n",
    "ndwi, _ = rasterio.mask.mask(NDWI, new_coordinates, crop=True)\n",
    "ndwi2, _ = rasterio.mask.mask(NDWI2, new_coordinates, crop=True)"
   ]
  },
  {
   "cell_type": "code",
   "execution_count": null,
   "metadata": {},
   "outputs": [],
   "source": [
    "ndwi2 = ndwi2.squeeze()\n",
    "pyplot.imshow(ndwi2)"
   ]
  },
  {
   "cell_type": "code",
   "execution_count": null,
   "metadata": {},
   "outputs": [],
   "source": [
    "def insideMatrix(x, y, m, n):\n",
    "    if x < 0 or x >= m or y < 0 or y >= n:\n",
    "        return False\n",
    "    return True"
   ]
  },
  {
   "cell_type": "code",
   "execution_count": null,
   "metadata": {},
   "outputs": [],
   "source": [
    "def check_expansion(val, type_of_map):\n",
    "    if (type_of_map == 'NDVI'):\n",
    "        if (val < 0):\n",
    "            return True;\n",
    "        return False;\n",
    "    if (type_of_map == 'NDWI'):\n",
    "        if (val > 0):\n",
    "            return True;\n",
    "        return False;\n",
    "    if (type_of_map == 'NDWI2'):\n",
    "        if (val > 0):\n",
    "            return True;\n",
    "        return False;  \n",
    "    return null;"
   ]
  },
  {
   "cell_type": "code",
   "execution_count": null,
   "metadata": {},
   "outputs": [],
   "source": [
    "def count_pixel(obj, type_of_map, startingPoint):\n",
    "    from queue import Queue\n",
    "    dx = [0,1,0,-1]\n",
    "    dy = [1,0,-1,0]\n",
    "\n",
    "    visited = np.zeros((obj.shape[0], obj.shape[1])).astype('bool')\n",
    "    final_obj= np.zeros((obj.shape[0], obj.shape[1]))\n",
    "\n",
    "    u0, v0 = startingPoint[0], startingPoint[1]\n",
    "\n",
    "    q = Queue()\n",
    "    q.put((u0, v0))\n",
    "    visited[u0, v0] = True\n",
    "    countPixel = 0\n",
    "\n",
    "    while not q.empty():\n",
    "        u, v = q.get()\n",
    "        final_obj[u, v] = -1\n",
    "        countPixel += 1\n",
    "        for k in range(4):\n",
    "            _u, _v = u + dx[k], v + dy[k]\n",
    "            if not insideMatrix(_u, _v, obj.shape[0], obj.shape[1]): \n",
    "                continue\n",
    "            if visited[_u, _v]:\n",
    "                continue\n",
    "            if check_expansion(obj[_u, _v], type_of_map):\n",
    "                visited[_u, _v] = True\n",
    "                q.put((_u, _v))\n",
    "    pyplot.imshow(final_obj)\n",
    "    return countPixel"
   ]
  },
  {
   "cell_type": "code",
   "execution_count": null,
   "metadata": {},
   "outputs": [],
   "source": [
    "count_pixel(ndwi2, 'NDWI2', [500, 600]) * 900 / 1000000"
   ]
  }
 ],
 "metadata": {
  "kernelspec": {
   "display_name": "Python 3",
   "language": "python",
   "name": "python3"
  },
  "language_info": {
   "codemirror_mode": {
    "name": "ipython",
    "version": 3
   },
   "file_extension": ".py",
   "mimetype": "text/x-python",
   "name": "python",
   "nbconvert_exporter": "python",
   "pygments_lexer": "ipython3",
   "version": "3.5.2"
  }
 },
 "nbformat": 4,
 "nbformat_minor": 2
}
