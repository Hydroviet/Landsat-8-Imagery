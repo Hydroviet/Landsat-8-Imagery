{
 "cells": [
  {
   "cell_type": "code",
   "execution_count": 1,
   "metadata": {},
   "outputs": [],
   "source": [
    "import rasterio\n",
    "import numpy as np\n",
    "import matplotlib as mpl\n",
    "import subprocess\n",
    "from matplotlib import pyplot\n",
    "import geopandas as gpd\n",
    "import os, math\n",
    "from matplotlib import pyplot as plt\n",
    "from utils.landsatHepers import *\n",
    "from shapely.wkt import dump as DumpPolygon, load as LoadPolygon\n",
    "\n",
    "vn_reservoirs_path = 'vnreservoirs/VN_Reservoirs.shp'\n",
    "df = gpd.read_file(vn_reservoirs_path)\n",
    "plt.rcParams['figure.figsize'] = 7, 7\n",
    "ho_tri_an = df[df.AREA_SKM == 277.4]\n",
    "\n",
    "import json"
   ]
  },
  {
   "cell_type": "code",
   "execution_count": 2,
   "metadata": {},
   "outputs": [],
   "source": [
    "def removeCloudFromQABand(rawData, qaData):\n",
    "    returnValue = np.asarray(rawData)\n",
    "    returnValue[np.asarray(qaData) != 0] = -1\n",
    "    return returnValue"
   ]
  },
  {
   "cell_type": "code",
   "execution_count": null,
   "metadata": {},
   "outputs": [
    {
     "name": "stdout",
     "output_type": "stream",
     "text": [
      "[1/182] Working on Landsat8/LC08_L1GT_124052_20130722_20170503_01_T2...  --> OK. Area: 74.0439\n",
      "[2/182] Working on Landsat8/LC08_L1GT_124052_20131127_20170428_01_T2...  --> OK. Area: 0.9306\n",
      "[3/182] Working on Landsat8/LC08_L1GT_124052_20150712_20170407_01_T2...  --> OK. Area: 0.3303\n",
      "[4/182] Working on Landsat8/LC08_L1GT_124052_20150914_20170404_01_T2...  --> OK. Area: 74.7477\n",
      "[5/182] Working on Landsat8/LC08_L1GT_124052_20160628_20170323_01_T2...  --> OK. Area: 0.0\n",
      "[6/182] Working on Landsat8/LC08_L1TP_124052_20141130_20170417_01_T1...  --> OK. Area: 0.0\n",
      "[7/182] Working on Landsat8/LC08_L1TP_124052_20141216_20170416_01_T1...  --> OK. Area: 243.0018\n",
      "[8/182] Working on Landsat8/LC08_L1TP_124052_20150101_20170415_01_T1...  --> OK. Area: 77.499\n",
      "[9/182] Working on Landsat8/LC08_L1TP_124052_20180109_20180119_01_T1... "
     ]
    }
   ],
   "source": [
    "for root, dir, filenames in os.walk('Landsat8/'):\n",
    "    break\n",
    "\n",
    "c = 0\n",
    "for folder in dir:\n",
    "    geotiffPath = os.path.join('Landsat8', folder)\n",
    "    c += 1\n",
    "    print('[{1}/{2}] Working on {0}... '.format(geotiffPath, c, len(dir)), end='')\n",
    "\n",
    "    try:\n",
    "        NDWI = rasterio.open(os.path.join(geotiffPath, 'TriAn_' + folder.split('_')[3] + '.TIF'))\n",
    "                \n",
    "        ndwi = NDWI.read(1)\n",
    "        original_transform = NDWI.transform\n",
    "        \n",
    "        qaBand = rasterio.open(os.path.join(geotiffPath, 'TriAn_' + folder.split('_')[3] + '_BQA.TIF'))\n",
    "#         ndwi = removeCloudFromQABand(ndwi, qaBand.read(1))     \n",
    "        \n",
    "        area, water_body = getWaterBody(ndwi, 'NDWI')\n",
    "\n",
    "        if (area > 0):\n",
    "            water_body = normalizePixelOnBoundaries(water_body)\n",
    "            water_body_boundaries = find_boundaries(water_body, mode='outer', background=100).astype(np.int16)\n",
    "\n",
    "            __shape, lShape = getMostSimilarShape(water_body_boundaries, original_transform, \n",
    "                                                  ho_tri_an.to_crs(NDWI.crs))\n",
    "\n",
    "            new_shape_in_original_coordinates = [transform_geom(NDWI.crs, df.crs, mapping(__shape))]\n",
    "            new_shape = shape(new_shape_in_original_coordinates[0])\n",
    "\n",
    "            from shapely.wkt import dump as DumpPolygon, load as LoadPolygon\n",
    "\n",
    "            wkt_path = os.path.join(geotiffPath, 'TriAn_' + folder.split('_')[3] + '_shape.wkt')\n",
    "            DumpPolygon(new_shape, open(wkt_path, 'w'))\n",
    "        \n",
    "        _area = area * 900 / (1e6)\n",
    "        data = json.dumps({\n",
    "            'date': folder,\n",
    "            'area': str(_area)\n",
    "        })\n",
    "        print(' --> OK. Area: {0}'.format(_area))\n",
    "    except Exception as e:\n",
    "        print(' --> ERROR: ' + str(e))"
   ]
  }
 ],
 "metadata": {
  "kernelspec": {
   "display_name": "Python 3",
   "language": "python",
   "name": "python3"
  },
  "language_info": {
   "codemirror_mode": {
    "name": "ipython",
    "version": 3
   },
   "file_extension": ".py",
   "mimetype": "text/x-python",
   "name": "python",
   "nbconvert_exporter": "python",
   "pygments_lexer": "ipython3",
   "version": "3.5.2"
  }
 },
 "nbformat": 4,
 "nbformat_minor": 2
}
